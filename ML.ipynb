{
 "cells": [
  {
   "cell_type": "markdown",
   "id": "40d8a93e",
   "metadata": {},
   "source": [
    "# Прогнозирование оттока клиентов в фитнес-центрах"
   ]
  },
  {
   "cell_type": "markdown",
   "id": "f026f476",
   "metadata": {},
   "source": [
    "## Описание проекта   \n",
    "\n",
    "Сеть фитнес-центров «Культурист-датасаентист» разрабатывает стратегию взаимодействия с клиентами на основе аналитических данных.        \n",
    "Чтобы бороться с оттоком, отдел по работе с клиентами «Культуриста-датасаентиста» перевёл в электронный вид множество клиентских анкет. Ваша задача — провести анализ и подготовить план действий по удержанию клиентов.  \n",
    "\n",
    "А именно:          \n",
    "-научиться прогнозировать вероятность оттока (на уровне следующего месяца) для каждого клиента;          \n",
    "-сформировать типичные портреты клиентов: выделить несколько наиболее ярких групп и охарактеризовать их основные свойства;           \n",
    "-проанализировать основные признаки, наиболее сильно влияющие на отток;       \n",
    "-сформулировать основные выводы и разработать рекомендации по повышению качества работы с клиентами:       \n",
    "1) выделить целевые группы клиентов;      \n",
    "2) предложить меры по снижению оттока;        \n",
    "3) определить другие особенности взаимодействия с клиентами.     \n",
    "\n",
    "\n",
    "\n",
    "«Культурист-датасаентист» предоставил сведения в csv-файлах. Заказчик подготовил данные, которые содержат данные на месяц до оттока и факт оттока на определённый месяц. Набор данных включает следующие поля:         \n",
    "\n",
    "**Данные клиента за предыдущий до проверки факта оттока месяц:**   \n",
    "\n",
    "* 'gender' — пол;   \n",
    "\n",
    "* 'Near_Location' — проживание или работа в районе, где находится фитнес-центр;     \n",
    "\n",
    "* 'Partner' — сотрудник компании-партнёра клуба (сотрудничество с компаниями, чьи сотрудники могут получать скидки на абонемент — в таком случае фитнес-центр хранит информацию о работодателе клиента);      \n",
    "\n",
    "* Promo_friends — факт первоначальной записи в рамках акции «приведи друга» (использовал промо-код от знакомого при оплате первого абонемента);      \n",
    "\n",
    "* 'Phone' — наличие контактного телефона;   \n",
    "\n",
    "* 'Age' — возраст;       \n",
    "\n",
    "* 'Lifetime' — время с момента первого обращения в фитнес-центр (в месяцах).   \n",
    "\n",
    "**Информация на основе журнала посещений, покупок и информация о текущем статусе абонемента клиента:**\n",
    "\n",
    "* 'Contract_period' — длительность текущего действующего абонемента (месяц, 6 месяцев, год);      \n",
    "\n",
    "* 'Month_to_end_contract' — срок до окончания текущего действующего абонемента (в месяцах);      \n",
    "\n",
    "* 'Group_visits' — факт посещения групповых занятий;       \n",
    "\n",
    "* 'Avg_class_frequency_total' — средняя частота посещений в неделю за все время с начала действия абонемента;  \n",
    "\n",
    "* 'Avg_class_frequency_current_month' — средняя частота посещений в неделю за предыдущий месяц;     \n",
    "\n",
    "* 'Avg_additional_charges_total' — суммарная выручка от других услуг фитнес-центра: кафе, спорттовары, косметический и массажный салон.       \n",
    "\n",
    "* 'Churn' — факт оттока в текущем месяце.\n",
    "\n",
    "\n",
    "\n"
   ]
  },
  {
   "cell_type": "markdown",
   "id": "3fab0b16",
   "metadata": {},
   "source": [
    "## Загрузка данных"
   ]
  },
  {
   "cell_type": "code",
   "execution_count": 1,
   "id": "a0ee185a",
   "metadata": {},
   "outputs": [],
   "source": [
    "# импортируем библиотеки\n",
    "\n",
    "import pandas as pd\n",
    "import seaborn as sns\n",
    "\n",
    "import matplotlib.pyplot as plt\n",
    "import numpy as np"
   ]
  },
  {
   "cell_type": "code",
   "execution_count": 2,
   "id": "8640c99e",
   "metadata": {},
   "outputs": [],
   "source": [
    "from sklearn.model_selection import train_test_split\n",
    "from sklearn.linear_model import LogisticRegression\n",
    "from sklearn.ensemble import RandomForestClassifier\n",
    "from sklearn.preprocessing import StandardScaler\n",
    "from sklearn.metrics import accuracy_score, precision_score, recall_score, f1_score\n",
    "from scipy.cluster.hierarchy import dendrogram, linkage\n",
    "from sklearn.cluster import KMeans"
   ]
  },
  {
   "cell_type": "code",
   "execution_count": 3,
   "id": "7f425679",
   "metadata": {},
   "outputs": [
    {
     "data": {
      "text/html": [
       "<div>\n",
       "<style scoped>\n",
       "    .dataframe tbody tr th:only-of-type {\n",
       "        vertical-align: middle;\n",
       "    }\n",
       "\n",
       "    .dataframe tbody tr th {\n",
       "        vertical-align: top;\n",
       "    }\n",
       "\n",
       "    .dataframe thead th {\n",
       "        text-align: right;\n",
       "    }\n",
       "</style>\n",
       "<table border=\"1\" class=\"dataframe\">\n",
       "  <thead>\n",
       "    <tr style=\"text-align: right;\">\n",
       "      <th></th>\n",
       "      <th>gender</th>\n",
       "      <th>Near_Location</th>\n",
       "      <th>Partner</th>\n",
       "      <th>Promo_friends</th>\n",
       "      <th>Phone</th>\n",
       "      <th>Contract_period</th>\n",
       "      <th>Group_visits</th>\n",
       "      <th>Age</th>\n",
       "      <th>Avg_additional_charges_total</th>\n",
       "      <th>Month_to_end_contract</th>\n",
       "      <th>Lifetime</th>\n",
       "      <th>Avg_class_frequency_total</th>\n",
       "      <th>Avg_class_frequency_current_month</th>\n",
       "      <th>Churn</th>\n",
       "    </tr>\n",
       "  </thead>\n",
       "  <tbody>\n",
       "    <tr>\n",
       "      <th>0</th>\n",
       "      <td>1</td>\n",
       "      <td>1</td>\n",
       "      <td>1</td>\n",
       "      <td>1</td>\n",
       "      <td>0</td>\n",
       "      <td>6</td>\n",
       "      <td>1</td>\n",
       "      <td>29</td>\n",
       "      <td>14.227470</td>\n",
       "      <td>5.0</td>\n",
       "      <td>3</td>\n",
       "      <td>0.020398</td>\n",
       "      <td>0.000000</td>\n",
       "      <td>0</td>\n",
       "    </tr>\n",
       "    <tr>\n",
       "      <th>1</th>\n",
       "      <td>0</td>\n",
       "      <td>1</td>\n",
       "      <td>0</td>\n",
       "      <td>0</td>\n",
       "      <td>1</td>\n",
       "      <td>12</td>\n",
       "      <td>1</td>\n",
       "      <td>31</td>\n",
       "      <td>113.202938</td>\n",
       "      <td>12.0</td>\n",
       "      <td>7</td>\n",
       "      <td>1.922936</td>\n",
       "      <td>1.910244</td>\n",
       "      <td>0</td>\n",
       "    </tr>\n",
       "    <tr>\n",
       "      <th>2</th>\n",
       "      <td>0</td>\n",
       "      <td>1</td>\n",
       "      <td>1</td>\n",
       "      <td>0</td>\n",
       "      <td>1</td>\n",
       "      <td>1</td>\n",
       "      <td>0</td>\n",
       "      <td>28</td>\n",
       "      <td>129.448479</td>\n",
       "      <td>1.0</td>\n",
       "      <td>2</td>\n",
       "      <td>1.859098</td>\n",
       "      <td>1.736502</td>\n",
       "      <td>0</td>\n",
       "    </tr>\n",
       "    <tr>\n",
       "      <th>3</th>\n",
       "      <td>0</td>\n",
       "      <td>1</td>\n",
       "      <td>1</td>\n",
       "      <td>1</td>\n",
       "      <td>1</td>\n",
       "      <td>12</td>\n",
       "      <td>1</td>\n",
       "      <td>33</td>\n",
       "      <td>62.669863</td>\n",
       "      <td>12.0</td>\n",
       "      <td>2</td>\n",
       "      <td>3.205633</td>\n",
       "      <td>3.357215</td>\n",
       "      <td>0</td>\n",
       "    </tr>\n",
       "    <tr>\n",
       "      <th>4</th>\n",
       "      <td>1</td>\n",
       "      <td>1</td>\n",
       "      <td>1</td>\n",
       "      <td>1</td>\n",
       "      <td>1</td>\n",
       "      <td>1</td>\n",
       "      <td>0</td>\n",
       "      <td>26</td>\n",
       "      <td>198.362265</td>\n",
       "      <td>1.0</td>\n",
       "      <td>3</td>\n",
       "      <td>1.113884</td>\n",
       "      <td>1.120078</td>\n",
       "      <td>0</td>\n",
       "    </tr>\n",
       "  </tbody>\n",
       "</table>\n",
       "</div>"
      ],
      "text/plain": [
       "   gender  Near_Location  Partner  Promo_friends  Phone  Contract_period  \\\n",
       "0       1              1        1              1      0                6   \n",
       "1       0              1        0              0      1               12   \n",
       "2       0              1        1              0      1                1   \n",
       "3       0              1        1              1      1               12   \n",
       "4       1              1        1              1      1                1   \n",
       "\n",
       "   Group_visits  Age  Avg_additional_charges_total  Month_to_end_contract  \\\n",
       "0             1   29                     14.227470                    5.0   \n",
       "1             1   31                    113.202938                   12.0   \n",
       "2             0   28                    129.448479                    1.0   \n",
       "3             1   33                     62.669863                   12.0   \n",
       "4             0   26                    198.362265                    1.0   \n",
       "\n",
       "   Lifetime  Avg_class_frequency_total  Avg_class_frequency_current_month  \\\n",
       "0         3                   0.020398                           0.000000   \n",
       "1         7                   1.922936                           1.910244   \n",
       "2         2                   1.859098                           1.736502   \n",
       "3         2                   3.205633                           3.357215   \n",
       "4         3                   1.113884                           1.120078   \n",
       "\n",
       "   Churn  \n",
       "0      0  \n",
       "1      0  \n",
       "2      0  \n",
       "3      0  \n",
       "4      0  "
      ]
     },
     "execution_count": 3,
     "metadata": {},
     "output_type": "execute_result"
    }
   ],
   "source": [
    "# изучим файл с данными\n",
    "df = pd.read_csv(\"/datasets/gym_churn.csv\")\n",
    "df.head(5)"
   ]
  },
  {
   "cell_type": "code",
   "execution_count": 4,
   "id": "93a3efdc",
   "metadata": {},
   "outputs": [
    {
     "name": "stdout",
     "output_type": "stream",
     "text": [
      "<class 'pandas.core.frame.DataFrame'>\n",
      "RangeIndex: 4000 entries, 0 to 3999\n",
      "Data columns (total 14 columns):\n",
      " #   Column                             Non-Null Count  Dtype  \n",
      "---  ------                             --------------  -----  \n",
      " 0   gender                             4000 non-null   int64  \n",
      " 1   Near_Location                      4000 non-null   int64  \n",
      " 2   Partner                            4000 non-null   int64  \n",
      " 3   Promo_friends                      4000 non-null   int64  \n",
      " 4   Phone                              4000 non-null   int64  \n",
      " 5   Contract_period                    4000 non-null   int64  \n",
      " 6   Group_visits                       4000 non-null   int64  \n",
      " 7   Age                                4000 non-null   int64  \n",
      " 8   Avg_additional_charges_total       4000 non-null   float64\n",
      " 9   Month_to_end_contract              4000 non-null   float64\n",
      " 10  Lifetime                           4000 non-null   int64  \n",
      " 11  Avg_class_frequency_total          4000 non-null   float64\n",
      " 12  Avg_class_frequency_current_month  4000 non-null   float64\n",
      " 13  Churn                              4000 non-null   int64  \n",
      "dtypes: float64(4), int64(10)\n",
      "memory usage: 437.6 KB\n"
     ]
    }
   ],
   "source": [
    "df.info()"
   ]
  },
  {
   "cell_type": "code",
   "execution_count": 5,
   "id": "6b603c7c",
   "metadata": {},
   "outputs": [],
   "source": [
    "# Приведем название столбов к нижнему регистру\n",
    "df.columns = [x.lower().replace(\" \", \"_\") for x in df.columns.values]"
   ]
  },
  {
   "cell_type": "code",
   "execution_count": 6,
   "id": "4632d643",
   "metadata": {},
   "outputs": [
    {
     "data": {
      "text/plain": [
       "0"
      ]
     },
     "execution_count": 6,
     "metadata": {},
     "output_type": "execute_result"
    }
   ],
   "source": [
    "# проверим датафрейм на дубликаты\n",
    "df.duplicated().sum()"
   ]
  },
  {
   "cell_type": "markdown",
   "id": "bf0118d3",
   "metadata": {},
   "source": [
    "**Выводы**   \n",
    "* В датафрейме 14 столбцов и 4000 строк.     \n",
    "* Пропусков и дубликатов нет.      \n",
    "* Название столбцов привели к нижнему регистру"
   ]
  },
  {
   "cell_type": "markdown",
   "id": "d12dbca4",
   "metadata": {},
   "source": [
    "##  Исследовательский анализ данных (EDA)"
   ]
  },
  {
   "cell_type": "markdown",
   "id": "e6e05cd1",
   "metadata": {},
   "source": [
    "### Посмотрите на датасет: есть ли в нем отсутствующие признаки, изучите средние значения и стандартные отклонения     "
   ]
  },
  {
   "cell_type": "code",
   "execution_count": 7,
   "id": "5a291e1b",
   "metadata": {},
   "outputs": [
    {
     "data": {
      "text/html": [
       "<div>\n",
       "<style scoped>\n",
       "    .dataframe tbody tr th:only-of-type {\n",
       "        vertical-align: middle;\n",
       "    }\n",
       "\n",
       "    .dataframe tbody tr th {\n",
       "        vertical-align: top;\n",
       "    }\n",
       "\n",
       "    .dataframe thead th {\n",
       "        text-align: right;\n",
       "    }\n",
       "</style>\n",
       "<table border=\"1\" class=\"dataframe\">\n",
       "  <thead>\n",
       "    <tr style=\"text-align: right;\">\n",
       "      <th></th>\n",
       "      <th>gender</th>\n",
       "      <th>near_location</th>\n",
       "      <th>partner</th>\n",
       "      <th>promo_friends</th>\n",
       "      <th>phone</th>\n",
       "      <th>contract_period</th>\n",
       "      <th>group_visits</th>\n",
       "      <th>age</th>\n",
       "      <th>avg_additional_charges_total</th>\n",
       "      <th>month_to_end_contract</th>\n",
       "      <th>lifetime</th>\n",
       "      <th>avg_class_frequency_total</th>\n",
       "      <th>avg_class_frequency_current_month</th>\n",
       "      <th>churn</th>\n",
       "    </tr>\n",
       "  </thead>\n",
       "  <tbody>\n",
       "    <tr>\n",
       "      <th>count</th>\n",
       "      <td>4000.000000</td>\n",
       "      <td>4000.000000</td>\n",
       "      <td>4000.000000</td>\n",
       "      <td>4000.000000</td>\n",
       "      <td>4000.000000</td>\n",
       "      <td>4000.000000</td>\n",
       "      <td>4000.000000</td>\n",
       "      <td>4000.000000</td>\n",
       "      <td>4000.000000</td>\n",
       "      <td>4000.000000</td>\n",
       "      <td>4000.000000</td>\n",
       "      <td>4000.000000</td>\n",
       "      <td>4000.000000</td>\n",
       "      <td>4000.000000</td>\n",
       "    </tr>\n",
       "    <tr>\n",
       "      <th>mean</th>\n",
       "      <td>0.510250</td>\n",
       "      <td>0.845250</td>\n",
       "      <td>0.486750</td>\n",
       "      <td>0.308500</td>\n",
       "      <td>0.903500</td>\n",
       "      <td>4.681250</td>\n",
       "      <td>0.412250</td>\n",
       "      <td>29.184250</td>\n",
       "      <td>146.943728</td>\n",
       "      <td>4.322750</td>\n",
       "      <td>3.724750</td>\n",
       "      <td>1.879020</td>\n",
       "      <td>1.767052</td>\n",
       "      <td>0.265250</td>\n",
       "    </tr>\n",
       "    <tr>\n",
       "      <th>std</th>\n",
       "      <td>0.499957</td>\n",
       "      <td>0.361711</td>\n",
       "      <td>0.499887</td>\n",
       "      <td>0.461932</td>\n",
       "      <td>0.295313</td>\n",
       "      <td>4.549706</td>\n",
       "      <td>0.492301</td>\n",
       "      <td>3.258367</td>\n",
       "      <td>96.355602</td>\n",
       "      <td>4.191297</td>\n",
       "      <td>3.749267</td>\n",
       "      <td>0.972245</td>\n",
       "      <td>1.052906</td>\n",
       "      <td>0.441521</td>\n",
       "    </tr>\n",
       "    <tr>\n",
       "      <th>min</th>\n",
       "      <td>0.000000</td>\n",
       "      <td>0.000000</td>\n",
       "      <td>0.000000</td>\n",
       "      <td>0.000000</td>\n",
       "      <td>0.000000</td>\n",
       "      <td>1.000000</td>\n",
       "      <td>0.000000</td>\n",
       "      <td>18.000000</td>\n",
       "      <td>0.148205</td>\n",
       "      <td>1.000000</td>\n",
       "      <td>0.000000</td>\n",
       "      <td>0.000000</td>\n",
       "      <td>0.000000</td>\n",
       "      <td>0.000000</td>\n",
       "    </tr>\n",
       "    <tr>\n",
       "      <th>25%</th>\n",
       "      <td>0.000000</td>\n",
       "      <td>1.000000</td>\n",
       "      <td>0.000000</td>\n",
       "      <td>0.000000</td>\n",
       "      <td>1.000000</td>\n",
       "      <td>1.000000</td>\n",
       "      <td>0.000000</td>\n",
       "      <td>27.000000</td>\n",
       "      <td>68.868830</td>\n",
       "      <td>1.000000</td>\n",
       "      <td>1.000000</td>\n",
       "      <td>1.180875</td>\n",
       "      <td>0.963003</td>\n",
       "      <td>0.000000</td>\n",
       "    </tr>\n",
       "    <tr>\n",
       "      <th>50%</th>\n",
       "      <td>1.000000</td>\n",
       "      <td>1.000000</td>\n",
       "      <td>0.000000</td>\n",
       "      <td>0.000000</td>\n",
       "      <td>1.000000</td>\n",
       "      <td>1.000000</td>\n",
       "      <td>0.000000</td>\n",
       "      <td>29.000000</td>\n",
       "      <td>136.220159</td>\n",
       "      <td>1.000000</td>\n",
       "      <td>3.000000</td>\n",
       "      <td>1.832768</td>\n",
       "      <td>1.719574</td>\n",
       "      <td>0.000000</td>\n",
       "    </tr>\n",
       "    <tr>\n",
       "      <th>75%</th>\n",
       "      <td>1.000000</td>\n",
       "      <td>1.000000</td>\n",
       "      <td>1.000000</td>\n",
       "      <td>1.000000</td>\n",
       "      <td>1.000000</td>\n",
       "      <td>6.000000</td>\n",
       "      <td>1.000000</td>\n",
       "      <td>31.000000</td>\n",
       "      <td>210.949625</td>\n",
       "      <td>6.000000</td>\n",
       "      <td>5.000000</td>\n",
       "      <td>2.536078</td>\n",
       "      <td>2.510336</td>\n",
       "      <td>1.000000</td>\n",
       "    </tr>\n",
       "    <tr>\n",
       "      <th>max</th>\n",
       "      <td>1.000000</td>\n",
       "      <td>1.000000</td>\n",
       "      <td>1.000000</td>\n",
       "      <td>1.000000</td>\n",
       "      <td>1.000000</td>\n",
       "      <td>12.000000</td>\n",
       "      <td>1.000000</td>\n",
       "      <td>41.000000</td>\n",
       "      <td>552.590740</td>\n",
       "      <td>12.000000</td>\n",
       "      <td>31.000000</td>\n",
       "      <td>6.023668</td>\n",
       "      <td>6.146783</td>\n",
       "      <td>1.000000</td>\n",
       "    </tr>\n",
       "  </tbody>\n",
       "</table>\n",
       "</div>"
      ],
      "text/plain": [
       "            gender  near_location      partner  promo_friends        phone  \\\n",
       "count  4000.000000    4000.000000  4000.000000    4000.000000  4000.000000   \n",
       "mean      0.510250       0.845250     0.486750       0.308500     0.903500   \n",
       "std       0.499957       0.361711     0.499887       0.461932     0.295313   \n",
       "min       0.000000       0.000000     0.000000       0.000000     0.000000   \n",
       "25%       0.000000       1.000000     0.000000       0.000000     1.000000   \n",
       "50%       1.000000       1.000000     0.000000       0.000000     1.000000   \n",
       "75%       1.000000       1.000000     1.000000       1.000000     1.000000   \n",
       "max       1.000000       1.000000     1.000000       1.000000     1.000000   \n",
       "\n",
       "       contract_period  group_visits          age  \\\n",
       "count      4000.000000   4000.000000  4000.000000   \n",
       "mean          4.681250      0.412250    29.184250   \n",
       "std           4.549706      0.492301     3.258367   \n",
       "min           1.000000      0.000000    18.000000   \n",
       "25%           1.000000      0.000000    27.000000   \n",
       "50%           1.000000      0.000000    29.000000   \n",
       "75%           6.000000      1.000000    31.000000   \n",
       "max          12.000000      1.000000    41.000000   \n",
       "\n",
       "       avg_additional_charges_total  month_to_end_contract     lifetime  \\\n",
       "count                   4000.000000            4000.000000  4000.000000   \n",
       "mean                     146.943728               4.322750     3.724750   \n",
       "std                       96.355602               4.191297     3.749267   \n",
       "min                        0.148205               1.000000     0.000000   \n",
       "25%                       68.868830               1.000000     1.000000   \n",
       "50%                      136.220159               1.000000     3.000000   \n",
       "75%                      210.949625               6.000000     5.000000   \n",
       "max                      552.590740              12.000000    31.000000   \n",
       "\n",
       "       avg_class_frequency_total  avg_class_frequency_current_month  \\\n",
       "count                4000.000000                        4000.000000   \n",
       "mean                    1.879020                           1.767052   \n",
       "std                     0.972245                           1.052906   \n",
       "min                     0.000000                           0.000000   \n",
       "25%                     1.180875                           0.963003   \n",
       "50%                     1.832768                           1.719574   \n",
       "75%                     2.536078                           2.510336   \n",
       "max                     6.023668                           6.146783   \n",
       "\n",
       "             churn  \n",
       "count  4000.000000  \n",
       "mean      0.265250  \n",
       "std       0.441521  \n",
       "min       0.000000  \n",
       "25%       0.000000  \n",
       "50%       0.000000  \n",
       "75%       1.000000  \n",
       "max       1.000000  "
      ]
     },
     "execution_count": 7,
     "metadata": {},
     "output_type": "execute_result"
    }
   ],
   "source": [
    "df.describe()"
   ]
  },
  {
   "cell_type": "markdown",
   "id": "30f5167f",
   "metadata": {},
   "source": [
    "* Мужчин и женщин ходит примерно одинаковое количество mean=0.51       \n",
    "* Большинство клиентов проживают близко к фитнес центру mean=0.86  \n",
    "* По партнерской программе пришло почти половина клиентов  mean=0.49   \n",
    "* Треть клиентов пришла по акции Приведи друга  mean=0.31   \n",
    "* Телефон указан практически у всех клиетов  mean=0.9, std=0.3   \n",
    "* Длительность абонемента имеют большой разброс,судя по стандаотному отклонению mean=4.68, std=4.59      \n",
    "* Чуть меньше половины клиентов посещвют групповые занятия mean=0.41, std=0.49    \n",
    "* Средний возраст клиента 29 лет, минимальный 18 лет,максимальный-41 год    \n",
    "* Выручка от дополнительный услуг фитнес клуба в среднем 147 тыс, max= 552 тыс    \n",
    "* Срок до окончания абонемента имеет большой разброс mean=4.32, std=4.19    \n",
    "* Лайфтайм имеет большой разброс mean=3.72, std=3.75   \n",
    "* Средняя частота посещений 1-2 раза в неделю, max= 6   \n",
    "* Средний Отток 26.5 % с std=0.44\n"
   ]
  },
  {
   "cell_type": "markdown",
   "id": "c58b85f5",
   "metadata": {},
   "source": [
    "### Посмотрите на средние значения признаков в двух группах — тех, кто ушел в отток и тех, кто остался "
   ]
  },
  {
   "cell_type": "code",
   "execution_count": 8,
   "id": "b9ba4cfa",
   "metadata": {},
   "outputs": [
    {
     "data": {
      "text/html": [
       "<div>\n",
       "<style scoped>\n",
       "    .dataframe tbody tr th:only-of-type {\n",
       "        vertical-align: middle;\n",
       "    }\n",
       "\n",
       "    .dataframe tbody tr th {\n",
       "        vertical-align: top;\n",
       "    }\n",
       "\n",
       "    .dataframe thead th {\n",
       "        text-align: right;\n",
       "    }\n",
       "</style>\n",
       "<table border=\"1\" class=\"dataframe\">\n",
       "  <thead>\n",
       "    <tr style=\"text-align: right;\">\n",
       "      <th>churn</th>\n",
       "      <th>0</th>\n",
       "      <th>1</th>\n",
       "    </tr>\n",
       "  </thead>\n",
       "  <tbody>\n",
       "    <tr>\n",
       "      <th>gender</th>\n",
       "      <td>0.510037</td>\n",
       "      <td>0.510839</td>\n",
       "    </tr>\n",
       "    <tr>\n",
       "      <th>near_location</th>\n",
       "      <td>0.873086</td>\n",
       "      <td>0.768143</td>\n",
       "    </tr>\n",
       "    <tr>\n",
       "      <th>partner</th>\n",
       "      <td>0.534195</td>\n",
       "      <td>0.355325</td>\n",
       "    </tr>\n",
       "    <tr>\n",
       "      <th>promo_friends</th>\n",
       "      <td>0.353522</td>\n",
       "      <td>0.183789</td>\n",
       "    </tr>\n",
       "    <tr>\n",
       "      <th>phone</th>\n",
       "      <td>0.903709</td>\n",
       "      <td>0.902922</td>\n",
       "    </tr>\n",
       "    <tr>\n",
       "      <th>contract_period</th>\n",
       "      <td>5.747193</td>\n",
       "      <td>1.728558</td>\n",
       "    </tr>\n",
       "    <tr>\n",
       "      <th>group_visits</th>\n",
       "      <td>0.464103</td>\n",
       "      <td>0.268615</td>\n",
       "    </tr>\n",
       "    <tr>\n",
       "      <th>age</th>\n",
       "      <td>29.976523</td>\n",
       "      <td>26.989632</td>\n",
       "    </tr>\n",
       "    <tr>\n",
       "      <th>avg_additional_charges_total</th>\n",
       "      <td>158.445715</td>\n",
       "      <td>115.082899</td>\n",
       "    </tr>\n",
       "    <tr>\n",
       "      <th>month_to_end_contract</th>\n",
       "      <td>5.283089</td>\n",
       "      <td>1.662582</td>\n",
       "    </tr>\n",
       "    <tr>\n",
       "      <th>lifetime</th>\n",
       "      <td>4.711807</td>\n",
       "      <td>0.990575</td>\n",
       "    </tr>\n",
       "    <tr>\n",
       "      <th>avg_class_frequency_total</th>\n",
       "      <td>2.024876</td>\n",
       "      <td>1.474995</td>\n",
       "    </tr>\n",
       "    <tr>\n",
       "      <th>avg_class_frequency_current_month</th>\n",
       "      <td>2.027882</td>\n",
       "      <td>1.044546</td>\n",
       "    </tr>\n",
       "  </tbody>\n",
       "</table>\n",
       "</div>"
      ],
      "text/plain": [
       "churn                                       0           1\n",
       "gender                               0.510037    0.510839\n",
       "near_location                        0.873086    0.768143\n",
       "partner                              0.534195    0.355325\n",
       "promo_friends                        0.353522    0.183789\n",
       "phone                                0.903709    0.902922\n",
       "contract_period                      5.747193    1.728558\n",
       "group_visits                         0.464103    0.268615\n",
       "age                                 29.976523   26.989632\n",
       "avg_additional_charges_total       158.445715  115.082899\n",
       "month_to_end_contract                5.283089    1.662582\n",
       "lifetime                             4.711807    0.990575\n",
       "avg_class_frequency_total            2.024876    1.474995\n",
       "avg_class_frequency_current_month    2.027882    1.044546"
      ]
     },
     "execution_count": 8,
     "metadata": {},
     "output_type": "execute_result"
    }
   ],
   "source": [
    "df.groupby(\"churn\").agg(\"mean\").T"
   ]
  },
  {
   "cell_type": "markdown",
   "id": "d55d8769",
   "metadata": {},
   "source": [
    "* **В отток чаще уходят клиенты у которых абонемент на короткий срок, занимаются около месяца и дальше живут от клуба. Клиенты с парнерской программы и пришедшие по акции остаются чаще**"
   ]
  },
  {
   "cell_type": "markdown",
   "id": "6369c6a0",
   "metadata": {},
   "source": [
    "### Постройте столбчатые гистограммы и распределения признаков для тех, кто ушёл (отток) и тех, кто остался (не попали в отток)"
   ]
  },
  {
   "cell_type": "code",
   "execution_count": 10,
   "id": "30382abb",
   "metadata": {},
   "outputs": [
    {
     "data": {
      "image/png": "[encoded data removed]",
      "text/plain": [
       "<Figure size 1440x720 with 6 Axes>"
      ]
     },
     "metadata": {
      "needs_background": "light"
     },
     "output_type": "display_data"
    }
   ],
   "source": [
    "# построим графики для бинарных признаков\n",
    "n_rows = 1\n",
    "n_cols = 6\n",
    "\n",
    "fig, axes = plt.subplots(\n",
    "    nrows=n_rows,\n",
    "    ncols=n_cols,\n",
    "    sharex=True,\n",
    "    sharey=True,\n",
    "    constrained_layout=False,\n",
    "    figsize=(20, 10),\n",
    ")\n",
    "i = 0\n",
    "cols = [\"gender\", \"near_location\", \"partner\", \"promo_friends\", \"phone\", \"group_visits\"]\n",
    "for idx, x in enumerate(cols):\n",
    "    column = cols[idx]\n",
    "    sns.countplot(x=df[column], hue=\"churn\", data=df, ax=axes[idx])\n",
    "    sns.set_palette(\"Set3\")"
   ]
  },
  {
   "cell_type": "code",
   "execution_count": 11,
   "id": "2e98d57e",
   "metadata": {},
   "outputs": [
    {
     "data": {
      "image/png": "[encoded data removed]",
      "text/plain": [
       "<Figure size 720x360 with 1 Axes>"
      ]
     },
     "metadata": {
      "needs_background": "light"
     },
     "output_type": "display_data"
    },
    {
     "data": {
      "image/png": "[encoded data removed]",
      "text/plain": [
       "<Figure size 720x360 with 1 Axes>"
      ]
     },
     "metadata": {
      "needs_background": "light"
     },
     "output_type": "display_data"
    },
    {
     "data": {
      "image/png": "[encoded data removed]",
      "text/plain": [
       "<Figure size 720x360 with 1 Axes>"
      ]
     },
     "metadata": {
      "needs_background": "light"
     },
     "output_type": "display_data"
    },
    {
     "data": {
      "image/png": "[encoded data removed]",
      "text/plain": [
       "<Figure size 720x360 with 1 Axes>"
      ]
     },
     "metadata": {
      "needs_background": "light"
     },
     "output_type": "display_data"
    },
    {
     "data": {
      "image/png": "[encoded data removed]",
      "text/plain": [
       "<Figure size 720x360 with 1 Axes>"
      ]
     },
     "metadata": {
      "needs_background": "light"
     },
     "output_type": "display_data"
    },
    {
     "data": {
      "image/png": "[encoded data removed]",
      "text/plain": [
       "<Figure size 720x360 with 1 Axes>"
      ]
     },
     "metadata": {
      "needs_background": "light"
     },
     "output_type": "display_data"
    }
   ],
   "source": [
    "# построим графики для небинарных признаков\n",
    "for column in [\n",
    "    \"month_to_end_contract\",\n",
    "    \"age\",\n",
    "    \"avg_additional_charges_total\",\n",
    "    \"lifetime\",\n",
    "    \"avg_class_frequency_total\",\n",
    "    \"avg_class_frequency_current_month\",\n",
    "]:\n",
    "    plt.figure(figsize=(10, 5))\n",
    "    sns.boxplot(x=\"churn\", y=df[column], data=df)\n",
    "    plt.show()"
   ]
  },
  {
   "cell_type": "markdown",
   "id": "753c3711",
   "metadata": {},
   "source": [
    "### Постройте матрицу корреляций и отобразите её"
   ]
  },
  {
   "cell_type": "code",
   "execution_count": 12,
   "id": "cee11d97",
   "metadata": {},
   "outputs": [
    {
     "data": {
      "text/html": [
       "<div>\n",
       "<style scoped>\n",
       "    .dataframe tbody tr th:only-of-type {\n",
       "        vertical-align: middle;\n",
       "    }\n",
       "\n",
       "    .dataframe tbody tr th {\n",
       "        vertical-align: top;\n",
       "    }\n",
       "\n",
       "    .dataframe thead th {\n",
       "        text-align: right;\n",
       "    }\n",
       "</style>\n",
       "<table border=\"1\" class=\"dataframe\">\n",
       "  <thead>\n",
       "    <tr style=\"text-align: right;\">\n",
       "      <th></th>\n",
       "      <th>gender</th>\n",
       "      <th>near_location</th>\n",
       "      <th>partner</th>\n",
       "      <th>promo_friends</th>\n",
       "      <th>phone</th>\n",
       "      <th>contract_period</th>\n",
       "      <th>group_visits</th>\n",
       "      <th>age</th>\n",
       "      <th>avg_additional_charges_total</th>\n",
       "      <th>month_to_end_contract</th>\n",
       "      <th>lifetime</th>\n",
       "      <th>avg_class_frequency_total</th>\n",
       "      <th>avg_class_frequency_current_month</th>\n",
       "      <th>churn</th>\n",
       "    </tr>\n",
       "  </thead>\n",
       "  <tbody>\n",
       "    <tr>\n",
       "      <th>gender</th>\n",
       "      <td>1.000000</td>\n",
       "      <td>0.006699</td>\n",
       "      <td>-0.010463</td>\n",
       "      <td>-0.005033</td>\n",
       "      <td>-0.008542</td>\n",
       "      <td>0.000502</td>\n",
       "      <td>0.017879</td>\n",
       "      <td>0.013807</td>\n",
       "      <td>-0.009334</td>\n",
       "      <td>-0.001281</td>\n",
       "      <td>0.013579</td>\n",
       "      <td>0.014620</td>\n",
       "      <td>0.009156</td>\n",
       "      <td>0.000708</td>\n",
       "    </tr>\n",
       "    <tr>\n",
       "      <th>near_location</th>\n",
       "      <td>0.006699</td>\n",
       "      <td>1.000000</td>\n",
       "      <td>-0.005119</td>\n",
       "      <td>0.210964</td>\n",
       "      <td>-0.015763</td>\n",
       "      <td>0.150233</td>\n",
       "      <td>0.154728</td>\n",
       "      <td>0.058358</td>\n",
       "      <td>0.040761</td>\n",
       "      <td>0.143961</td>\n",
       "      <td>0.070921</td>\n",
       "      <td>0.043127</td>\n",
       "      <td>0.062664</td>\n",
       "      <td>-0.128098</td>\n",
       "    </tr>\n",
       "    <tr>\n",
       "      <th>partner</th>\n",
       "      <td>-0.010463</td>\n",
       "      <td>-0.005119</td>\n",
       "      <td>1.000000</td>\n",
       "      <td>0.451960</td>\n",
       "      <td>0.009970</td>\n",
       "      <td>0.306166</td>\n",
       "      <td>0.022710</td>\n",
       "      <td>0.047480</td>\n",
       "      <td>0.022941</td>\n",
       "      <td>0.294632</td>\n",
       "      <td>0.061229</td>\n",
       "      <td>0.024938</td>\n",
       "      <td>0.045561</td>\n",
       "      <td>-0.157986</td>\n",
       "    </tr>\n",
       "    <tr>\n",
       "      <th>promo_friends</th>\n",
       "      <td>-0.005033</td>\n",
       "      <td>0.210964</td>\n",
       "      <td>0.451960</td>\n",
       "      <td>1.000000</td>\n",
       "      <td>0.001982</td>\n",
       "      <td>0.244552</td>\n",
       "      <td>0.120170</td>\n",
       "      <td>0.050113</td>\n",
       "      <td>0.036898</td>\n",
       "      <td>0.239553</td>\n",
       "      <td>0.072721</td>\n",
       "      <td>0.028063</td>\n",
       "      <td>0.053768</td>\n",
       "      <td>-0.162233</td>\n",
       "    </tr>\n",
       "    <tr>\n",
       "      <th>phone</th>\n",
       "      <td>-0.008542</td>\n",
       "      <td>-0.015763</td>\n",
       "      <td>0.009970</td>\n",
       "      <td>0.001982</td>\n",
       "      <td>1.000000</td>\n",
       "      <td>-0.006893</td>\n",
       "      <td>-0.010099</td>\n",
       "      <td>-0.011403</td>\n",
       "      <td>0.009279</td>\n",
       "      <td>-0.011196</td>\n",
       "      <td>-0.018801</td>\n",
       "      <td>0.008340</td>\n",
       "      <td>0.013375</td>\n",
       "      <td>-0.001177</td>\n",
       "    </tr>\n",
       "    <tr>\n",
       "      <th>contract_period</th>\n",
       "      <td>0.000502</td>\n",
       "      <td>0.150233</td>\n",
       "      <td>0.306166</td>\n",
       "      <td>0.244552</td>\n",
       "      <td>-0.006893</td>\n",
       "      <td>1.000000</td>\n",
       "      <td>0.169991</td>\n",
       "      <td>0.138249</td>\n",
       "      <td>0.111445</td>\n",
       "      <td>0.973064</td>\n",
       "      <td>0.170725</td>\n",
       "      <td>0.096211</td>\n",
       "      <td>0.159407</td>\n",
       "      <td>-0.389984</td>\n",
       "    </tr>\n",
       "    <tr>\n",
       "      <th>group_visits</th>\n",
       "      <td>0.017879</td>\n",
       "      <td>0.154728</td>\n",
       "      <td>0.022710</td>\n",
       "      <td>0.120170</td>\n",
       "      <td>-0.010099</td>\n",
       "      <td>0.169991</td>\n",
       "      <td>1.000000</td>\n",
       "      <td>0.080934</td>\n",
       "      <td>0.032079</td>\n",
       "      <td>0.163703</td>\n",
       "      <td>0.075853</td>\n",
       "      <td>0.056695</td>\n",
       "      <td>0.075923</td>\n",
       "      <td>-0.175325</td>\n",
       "    </tr>\n",
       "    <tr>\n",
       "      <th>age</th>\n",
       "      <td>0.013807</td>\n",
       "      <td>0.058358</td>\n",
       "      <td>0.047480</td>\n",
       "      <td>0.050113</td>\n",
       "      <td>-0.011403</td>\n",
       "      <td>0.138249</td>\n",
       "      <td>0.080934</td>\n",
       "      <td>1.000000</td>\n",
       "      <td>0.080240</td>\n",
       "      <td>0.134511</td>\n",
       "      <td>0.164693</td>\n",
       "      <td>0.119953</td>\n",
       "      <td>0.183095</td>\n",
       "      <td>-0.404735</td>\n",
       "    </tr>\n",
       "    <tr>\n",
       "      <th>avg_additional_charges_total</th>\n",
       "      <td>-0.009334</td>\n",
       "      <td>0.040761</td>\n",
       "      <td>0.022941</td>\n",
       "      <td>0.036898</td>\n",
       "      <td>0.009279</td>\n",
       "      <td>0.111445</td>\n",
       "      <td>0.032079</td>\n",
       "      <td>0.080240</td>\n",
       "      <td>1.000000</td>\n",
       "      <td>0.113958</td>\n",
       "      <td>0.079028</td>\n",
       "      <td>0.044426</td>\n",
       "      <td>0.079570</td>\n",
       "      <td>-0.198697</td>\n",
       "    </tr>\n",
       "    <tr>\n",
       "      <th>month_to_end_contract</th>\n",
       "      <td>-0.001281</td>\n",
       "      <td>0.143961</td>\n",
       "      <td>0.294632</td>\n",
       "      <td>0.239553</td>\n",
       "      <td>-0.011196</td>\n",
       "      <td>0.973064</td>\n",
       "      <td>0.163703</td>\n",
       "      <td>0.134511</td>\n",
       "      <td>0.113958</td>\n",
       "      <td>1.000000</td>\n",
       "      <td>0.161078</td>\n",
       "      <td>0.085387</td>\n",
       "      <td>0.147605</td>\n",
       "      <td>-0.381393</td>\n",
       "    </tr>\n",
       "    <tr>\n",
       "      <th>lifetime</th>\n",
       "      <td>0.013579</td>\n",
       "      <td>0.070921</td>\n",
       "      <td>0.061229</td>\n",
       "      <td>0.072721</td>\n",
       "      <td>-0.018801</td>\n",
       "      <td>0.170725</td>\n",
       "      <td>0.075853</td>\n",
       "      <td>0.164693</td>\n",
       "      <td>0.079028</td>\n",
       "      <td>0.161078</td>\n",
       "      <td>1.000000</td>\n",
       "      <td>0.112338</td>\n",
       "      <td>0.181975</td>\n",
       "      <td>-0.438220</td>\n",
       "    </tr>\n",
       "    <tr>\n",
       "      <th>avg_class_frequency_total</th>\n",
       "      <td>0.014620</td>\n",
       "      <td>0.043127</td>\n",
       "      <td>0.024938</td>\n",
       "      <td>0.028063</td>\n",
       "      <td>0.008340</td>\n",
       "      <td>0.096211</td>\n",
       "      <td>0.056695</td>\n",
       "      <td>0.119953</td>\n",
       "      <td>0.044426</td>\n",
       "      <td>0.085387</td>\n",
       "      <td>0.112338</td>\n",
       "      <td>1.000000</td>\n",
       "      <td>0.952739</td>\n",
       "      <td>-0.249715</td>\n",
       "    </tr>\n",
       "    <tr>\n",
       "      <th>avg_class_frequency_current_month</th>\n",
       "      <td>0.009156</td>\n",
       "      <td>0.062664</td>\n",
       "      <td>0.045561</td>\n",
       "      <td>0.053768</td>\n",
       "      <td>0.013375</td>\n",
       "      <td>0.159407</td>\n",
       "      <td>0.075923</td>\n",
       "      <td>0.183095</td>\n",
       "      <td>0.079570</td>\n",
       "      <td>0.147605</td>\n",
       "      <td>0.181975</td>\n",
       "      <td>0.952739</td>\n",
       "      <td>1.000000</td>\n",
       "      <td>-0.412348</td>\n",
       "    </tr>\n",
       "    <tr>\n",
       "      <th>churn</th>\n",
       "      <td>0.000708</td>\n",
       "      <td>-0.128098</td>\n",
       "      <td>-0.157986</td>\n",
       "      <td>-0.162233</td>\n",
       "      <td>-0.001177</td>\n",
       "      <td>-0.389984</td>\n",
       "      <td>-0.175325</td>\n",
       "      <td>-0.404735</td>\n",
       "      <td>-0.198697</td>\n",
       "      <td>-0.381393</td>\n",
       "      <td>-0.438220</td>\n",
       "      <td>-0.249715</td>\n",
       "      <td>-0.412348</td>\n",
       "      <td>1.000000</td>\n",
       "    </tr>\n",
       "  </tbody>\n",
       "</table>\n",
       "</div>"
      ],
      "text/plain": [
       "                                     gender  near_location   partner  \\\n",
       "gender                             1.000000       0.006699 -0.010463   \n",
       "near_location                      0.006699       1.000000 -0.005119   \n",
       "partner                           -0.010463      -0.005119  1.000000   \n",
       "promo_friends                     -0.005033       0.210964  0.451960   \n",
       "phone                             -0.008542      -0.015763  0.009970   \n",
       "contract_period                    0.000502       0.150233  0.306166   \n",
       "group_visits                       0.017879       0.154728  0.022710   \n",
       "age                                0.013807       0.058358  0.047480   \n",
       "avg_additional_charges_total      -0.009334       0.040761  0.022941   \n",
       "month_to_end_contract             -0.001281       0.143961  0.294632   \n",
       "lifetime                           0.013579       0.070921  0.061229   \n",
       "avg_class_frequency_total          0.014620       0.043127  0.024938   \n",
       "avg_class_frequency_current_month  0.009156       0.062664  0.045561   \n",
       "churn                              0.000708      -0.128098 -0.157986   \n",
       "\n",
       "                                   promo_friends     phone  contract_period  \\\n",
       "gender                                 -0.005033 -0.008542         0.000502   \n",
       "near_location                           0.210964 -0.015763         0.150233   \n",
       "partner                                 0.451960  0.009970         0.306166   \n",
       "promo_friends                           1.000000  0.001982         0.244552   \n",
       "phone                                   0.001982  1.000000        -0.006893   \n",
       "contract_period                         0.244552 -0.006893         1.000000   \n",
       "group_visits                            0.120170 -0.010099         0.169991   \n",
       "age                                     0.050113 -0.011403         0.138249   \n",
       "avg_additional_charges_total            0.036898  0.009279         0.111445   \n",
       "month_to_end_contract                   0.239553 -0.011196         0.973064   \n",
       "lifetime                                0.072721 -0.018801         0.170725   \n",
       "avg_class_frequency_total               0.028063  0.008340         0.096211   \n",
       "avg_class_frequency_current_month       0.053768  0.013375         0.159407   \n",
       "churn                                  -0.162233 -0.001177        -0.389984   \n",
       "\n",
       "                                   group_visits       age  \\\n",
       "gender                                 0.017879  0.013807   \n",
       "near_location                          0.154728  0.058358   \n",
       "partner                                0.022710  0.047480   \n",
       "promo_friends                          0.120170  0.050113   \n",
       "phone                                 -0.010099 -0.011403   \n",
       "contract_period                        0.169991  0.138249   \n",
       "group_visits                           1.000000  0.080934   \n",
       "age                                    0.080934  1.000000   \n",
       "avg_additional_charges_total           0.032079  0.080240   \n",
       "month_to_end_contract                  0.163703  0.134511   \n",
       "lifetime                               0.075853  0.164693   \n",
       "avg_class_frequency_total              0.056695  0.119953   \n",
       "avg_class_frequency_current_month      0.075923  0.183095   \n",
       "churn                                 -0.175325 -0.404735   \n",
       "\n",
       "                                   avg_additional_charges_total  \\\n",
       "gender                                                -0.009334   \n",
       "near_location                                          0.040761   \n",
       "partner                                                0.022941   \n",
       "promo_friends                                          0.036898   \n",
       "phone                                                  0.009279   \n",
       "contract_period                                        0.111445   \n",
       "group_visits                                           0.032079   \n",
       "age                                                    0.080240   \n",
       "avg_additional_charges_total                           1.000000   \n",
       "month_to_end_contract                                  0.113958   \n",
       "lifetime                                               0.079028   \n",
       "avg_class_frequency_total                              0.044426   \n",
       "avg_class_frequency_current_month                      0.079570   \n",
       "churn                                                 -0.198697   \n",
       "\n",
       "                                   month_to_end_contract  lifetime  \\\n",
       "gender                                         -0.001281  0.013579   \n",
       "near_location                                   0.143961  0.070921   \n",
       "partner                                         0.294632  0.061229   \n",
       "promo_friends                                   0.239553  0.072721   \n",
       "phone                                          -0.011196 -0.018801   \n",
       "contract_period                                 0.973064  0.170725   \n",
       "group_visits                                    0.163703  0.075853   \n",
       "age                                             0.134511  0.164693   \n",
       "avg_additional_charges_total                    0.113958  0.079028   \n",
       "month_to_end_contract                           1.000000  0.161078   \n",
       "lifetime                                        0.161078  1.000000   \n",
       "avg_class_frequency_total                       0.085387  0.112338   \n",
       "avg_class_frequency_current_month               0.147605  0.181975   \n",
       "churn                                          -0.381393 -0.438220   \n",
       "\n",
       "                                   avg_class_frequency_total  \\\n",
       "gender                                              0.014620   \n",
       "near_location                                       0.043127   \n",
       "partner                                             0.024938   \n",
       "promo_friends                                       0.028063   \n",
       "phone                                               0.008340   \n",
       "contract_period                                     0.096211   \n",
       "group_visits                                        0.056695   \n",
       "age                                                 0.119953   \n",
       "avg_additional_charges_total                        0.044426   \n",
       "month_to_end_contract                               0.085387   \n",
       "lifetime                                            0.112338   \n",
       "avg_class_frequency_total                           1.000000   \n",
       "avg_class_frequency_current_month                   0.952739   \n",
       "churn                                              -0.249715   \n",
       "\n",
       "                                   avg_class_frequency_current_month     churn  \n",
       "gender                                                      0.009156  0.000708  \n",
       "near_location                                               0.062664 -0.128098  \n",
       "partner                                                     0.045561 -0.157986  \n",
       "promo_friends                                               0.053768 -0.162233  \n",
       "phone                                                       0.013375 -0.001177  \n",
       "contract_period                                             0.159407 -0.389984  \n",
       "group_visits                                                0.075923 -0.175325  \n",
       "age                                                         0.183095 -0.404735  \n",
       "avg_additional_charges_total                                0.079570 -0.198697  \n",
       "month_to_end_contract                                       0.147605 -0.381393  \n",
       "lifetime                                                    0.181975 -0.438220  \n",
       "avg_class_frequency_total                                   0.952739 -0.249715  \n",
       "avg_class_frequency_current_month                           1.000000 -0.412348  \n",
       "churn                                                      -0.412348  1.000000  "
      ]
     },
     "execution_count": 12,
     "metadata": {},
     "output_type": "execute_result"
    }
   ],
   "source": [
    "# построим и отрисуем матрицу корреляций\n",
    "cm = df.corr()\n",
    "cm"
   ]
  },
  {
   "cell_type": "code",
   "execution_count": 13,
   "id": "81a17066",
   "metadata": {},
   "outputs": [
    {
     "data": {
      "image/png": "[encoded data removed]",
      "text/plain": [
       "<Figure size 1080x720 with 2 Axes>"
      ]
     },
     "metadata": {
      "needs_background": "light"
     },
     "output_type": "display_data"
    }
   ],
   "source": [
    "# нарисуем тепловую карту с подписями для матрицы корреляций\n",
    "plt.figure(figsize=(15, 10))\n",
    "sns.heatmap(cm, annot=True, square=True, cmap=\"coolwarm\")\n",
    "plt.show()"
   ]
  },
  {
   "cell_type": "markdown",
   "id": "40b88f10",
   "metadata": {},
   "source": [
    "* Наиболее сильно коррелируют признаки Средняя частота посещений в неделю за все время с начала действия абонемента(Avg_class_frequency_total) со Средней частотой посещений в неделю за предыдущий месяц(Avg_class_frequency_current_month) и длительность текущего действующего абонемента(Contract_period) со сроком до окончания текущего действующего абонемента(Month_to_end_contract). Коэффиуиенты корреляции равны 0.95 и 0.97 соответственно.Эти признаки мультиколлинеарны     \n",
    "* Признаки с практически нулевой корреляцией-пол и номер телефона\n",
    "* На отток клиентов больше всего влияет лайфтайм,средняя частота посещений ,возраст и период контракта."
   ]
  },
  {
   "cell_type": "markdown",
   "id": "b661d97d",
   "metadata": {},
   "source": [
    "### Выводы исследовательского анализа данных"
   ]
  },
  {
   "cell_type": "markdown",
   "id": "09e41634",
   "metadata": {},
   "source": [
    "* На отток клиентов больше всего влияет лайфтайм,средняя частота посещений ,возраст и период контракт         \n",
    "* В отток чаще уходят клиенты у которых абонемент на короткий срок, занимаются около месяца и дальше живут от клуба. Клиенты с парнерской программы и пришедшие по акции остаются чаще          \n",
    "* Наиболее сильно коррелируют признаки Средняя частота посещений в неделю за все время с начала действия абонемента(Avg_class_frequency_total) со Средней частотой посещений в неделю за предыдущий месяц(Avg_class_frequency_current_month) и длительность текущего действующего абонемента(Contract_period) со сроком до окончания текущего действующего абонемента(Month_to_end_contract). Коэффициенты корреляции равны 0.95 и 0.97 соответственно.Эти признаки мультиколлинеарны   \n",
    "* Признаки с практически нулевой корреляцией-пол и номер телефона"
   ]
  },
  {
   "cell_type": "markdown",
   "id": "49fcddb3",
   "metadata": {},
   "source": [
    "## Модель прогнозирования оттока клиентов"
   ]
  },
  {
   "cell_type": "code",
   "execution_count": 14,
   "id": "88406a68",
   "metadata": {},
   "outputs": [],
   "source": [
    "# разделим наши данные на признаки (матрица X) и целевую переменную (y) и удалим по одному признаку из пары мультиколлинеарных\n",
    "X = df.drop(\n",
    "    columns=[\"churn\", \"avg_class_frequency_current_month\", \"month_to_end_contract\"]\n",
    ")\n",
    "y = df[\"churn\"]"
   ]
  },
  {
   "cell_type": "code",
   "execution_count": 15,
   "id": "630b9110",
   "metadata": {},
   "outputs": [],
   "source": [
    "# разделим модель на обучающую и валидационную выборку\n",
    "X_train, X_test, y_train, y_test = train_test_split(\n",
    "    X, y, test_size=0.2, random_state=0, stratify=y\n",
    ")"
   ]
  },
  {
   "cell_type": "markdown",
   "id": "4e55344a",
   "metadata": {},
   "source": [
    "#### Логистическая регрессия"
   ]
  },
  {
   "cell_type": "code",
   "execution_count": 16,
   "id": "f4e6a43d",
   "metadata": {},
   "outputs": [],
   "source": [
    "# задаем  алгоритм для нашей модели\n",
    "model = LogisticRegression(solver=\"liblinear\")"
   ]
  },
  {
   "cell_type": "code",
   "execution_count": 17,
   "id": "e579b45f",
   "metadata": {},
   "outputs": [
    {
     "data": {
      "text/plain": [
       "LogisticRegression(solver='liblinear')"
      ]
     },
     "execution_count": 17,
     "metadata": {},
     "output_type": "execute_result"
    }
   ],
   "source": [
    "# обучим модель на обучающей выборке\n",
    "model.fit(X_train, y_train)"
   ]
  },
  {
   "cell_type": "code",
   "execution_count": 18,
   "id": "d0a76eab",
   "metadata": {},
   "outputs": [],
   "source": [
    "# воспользуемся уже обученной моделью, чтобы сделать прогнозы\n",
    "predictions = model.predict(X_test)\n",
    "probabilities = model.predict_proba(X_test)[:, 1]"
   ]
  },
  {
   "cell_type": "code",
   "execution_count": 19,
   "id": "bf131037",
   "metadata": {},
   "outputs": [
    {
     "name": "stdout",
     "output_type": "stream",
     "text": [
      "Accuracy: 0.90\n",
      "Precision: 0.83\n",
      "Recall: 0.80\n"
     ]
    }
   ],
   "source": [
    "# выведем метрики\n",
    "print(\"Accuracy: {:.2f}\".format(accuracy_score(y_test, predictions)))\n",
    "print(\"Precision: {:.2f}\".format(precision_score(y_test, predictions)))\n",
    "print(\"Recall: {:.2f}\".format(recall_score(y_test, predictions)))"
   ]
  },
  {
   "cell_type": "markdown",
   "id": "32ee191e",
   "metadata": {},
   "source": [
    "* Метрика Accuracy-доля правильно угаданных ответов равна 90%  \n",
    "* Метрика Precision-доля прозноза относительно оттока клиентов 0.83            \n",
    "* Метрика Recall показывает сколько реальных клиентов,находящихся в оттоке удалось обнаружить 0.80"
   ]
  },
  {
   "cell_type": "code",
   "execution_count": 20,
   "id": "1f77affe",
   "metadata": {},
   "outputs": [
    {
     "data": {
      "text/html": [
       "<div>\n",
       "<style scoped>\n",
       "    .dataframe tbody tr th:only-of-type {\n",
       "        vertical-align: middle;\n",
       "    }\n",
       "\n",
       "    .dataframe tbody tr th {\n",
       "        vertical-align: top;\n",
       "    }\n",
       "\n",
       "    .dataframe thead th {\n",
       "        text-align: right;\n",
       "    }\n",
       "</style>\n",
       "<table border=\"1\" class=\"dataframe\">\n",
       "  <thead>\n",
       "    <tr style=\"text-align: right;\">\n",
       "      <th></th>\n",
       "      <th>coeff</th>\n",
       "    </tr>\n",
       "  </thead>\n",
       "  <tbody>\n",
       "    <tr>\n",
       "      <th>lifetime</th>\n",
       "      <td>0.912</td>\n",
       "    </tr>\n",
       "    <tr>\n",
       "      <th>group_visits</th>\n",
       "      <td>0.629</td>\n",
       "    </tr>\n",
       "    <tr>\n",
       "      <th>avg_class_frequency_total</th>\n",
       "      <td>0.590</td>\n",
       "    </tr>\n",
       "    <tr>\n",
       "      <th>promo_friends</th>\n",
       "      <td>0.353</td>\n",
       "    </tr>\n",
       "    <tr>\n",
       "      <th>contract_period</th>\n",
       "      <td>0.277</td>\n",
       "    </tr>\n",
       "    <tr>\n",
       "      <th>age</th>\n",
       "      <td>0.213</td>\n",
       "    </tr>\n",
       "    <tr>\n",
       "      <th>gender</th>\n",
       "      <td>0.110</td>\n",
       "    </tr>\n",
       "    <tr>\n",
       "      <th>phone</th>\n",
       "      <td>0.076</td>\n",
       "    </tr>\n",
       "    <tr>\n",
       "      <th>partner</th>\n",
       "      <td>0.031</td>\n",
       "    </tr>\n",
       "    <tr>\n",
       "      <th>near_location</th>\n",
       "      <td>0.028</td>\n",
       "    </tr>\n",
       "    <tr>\n",
       "      <th>avg_additional_charges_total</th>\n",
       "      <td>0.005</td>\n",
       "    </tr>\n",
       "  </tbody>\n",
       "</table>\n",
       "</div>"
      ],
      "text/plain": [
       "                              coeff\n",
       "lifetime                      0.912\n",
       "group_visits                  0.629\n",
       "avg_class_frequency_total     0.590\n",
       "promo_friends                 0.353\n",
       "contract_period               0.277\n",
       "age                           0.213\n",
       "gender                        0.110\n",
       "phone                         0.076\n",
       "partner                       0.031\n",
       "near_location                 0.028\n",
       "avg_additional_charges_total  0.005"
      ]
     },
     "execution_count": 20,
     "metadata": {},
     "output_type": "execute_result"
    }
   ],
   "source": [
    "# создадим датафрейм с именами признаков и их важностью и выведем его по убыванию важности\n",
    "pd.DataFrame(\n",
    "    columns=[\"coeff\"], data=abs(model.coef_[0].round(3)), index=X_test.columns\n",
    ").sort_values(by=\"coeff\", ascending=False)"
   ]
  },
  {
   "cell_type": "markdown",
   "id": "1fb0d4db",
   "metadata": {},
   "source": [
    "* Наиболее важными признаками влияющими на отток оказались lifetime-время с момента первого обращения,групповые посещения и средняя частота посещений в неделю.  \n",
    "* Наименее важные признаки суммарная выручка от доп услуг, расстояние от дома и партнерская программа"
   ]
  },
  {
   "cell_type": "markdown",
   "id": "73661c2d",
   "metadata": {},
   "source": [
    "#### Случайный лес"
   ]
  },
  {
   "cell_type": "code",
   "execution_count": 21,
   "id": "354b92c6",
   "metadata": {},
   "outputs": [
    {
     "name": "stdout",
     "output_type": "stream",
     "text": [
      "0.8975\n",
      "95\n"
     ]
    }
   ],
   "source": [
    "# найдем оптимальные параметры\n",
    "score = 0\n",
    "n_estimators = 1\n",
    "\n",
    "for i in range(1, 100):\n",
    "    m = RandomForestClassifier(n_estimators=i, random_state=0)\n",
    "    m.fit(X_train, y_train)\n",
    "    predictions = m.predict(X_test)\n",
    "    score_test = accuracy_score(y_test, predictions)\n",
    "    if score_test > score:\n",
    "        score = score_test\n",
    "        n_estimators = i\n",
    "print(score)\n",
    "print(n_estimators)"
   ]
  },
  {
   "cell_type": "code",
   "execution_count": 22,
   "id": "d4d7011e",
   "metadata": {},
   "outputs": [],
   "source": [
    "model_forest = RandomForestClassifier(n_estimators=95, random_state=0)\n",
    "model_forest.fit(X_train, y_train)\n",
    "\n",
    "predictions_forest = model_forest.predict(X_test)\n",
    "probabilities_forest = model_forest.predict_proba(X_test)[:, 1]"
   ]
  },
  {
   "cell_type": "code",
   "execution_count": 23,
   "id": "ab4c91dc",
   "metadata": {},
   "outputs": [
    {
     "name": "stdout",
     "output_type": "stream",
     "text": [
      "Accuracy: 0.90\n",
      "Precision: 0.81\n",
      "Recall: 0.80\n"
     ]
    }
   ],
   "source": [
    "# выведем метрики\n",
    "print(\"Accuracy: {:.2f}\".format(accuracy_score(y_test, predictions_forest)))\n",
    "print(\"Precision: {:.2f}\".format(precision_score(y_test, predictions_forest)))\n",
    "print(\"Recall: {:.2f}\".format(recall_score(y_test, predictions_forest)))"
   ]
  },
  {
   "cell_type": "markdown",
   "id": "24ee56c7",
   "metadata": {},
   "source": [
    "* Метрика Accuracy-доля правильно угаданных ответов равна 90%  \n",
    "* Метрика Precision-доля прозноза относительно оттока клиентов 0.81            \n",
    "* Метрика Recall показывает сколько реальных клиентов,находящихся в оттоке удалось обнаружить 0.80"
   ]
  },
  {
   "cell_type": "code",
   "execution_count": 24,
   "id": "5e4f7a69",
   "metadata": {},
   "outputs": [
    {
     "data": {
      "text/html": [
       "<div>\n",
       "<style scoped>\n",
       "    .dataframe tbody tr th:only-of-type {\n",
       "        vertical-align: middle;\n",
       "    }\n",
       "\n",
       "    .dataframe tbody tr th {\n",
       "        vertical-align: top;\n",
       "    }\n",
       "\n",
       "    .dataframe thead th {\n",
       "        text-align: right;\n",
       "    }\n",
       "</style>\n",
       "<table border=\"1\" class=\"dataframe\">\n",
       "  <thead>\n",
       "    <tr style=\"text-align: right;\">\n",
       "      <th></th>\n",
       "      <th>coeff</th>\n",
       "    </tr>\n",
       "  </thead>\n",
       "  <tbody>\n",
       "    <tr>\n",
       "      <th>lifetime</th>\n",
       "      <td>0.334</td>\n",
       "    </tr>\n",
       "    <tr>\n",
       "      <th>avg_class_frequency_total</th>\n",
       "      <td>0.171</td>\n",
       "    </tr>\n",
       "    <tr>\n",
       "      <th>age</th>\n",
       "      <td>0.153</td>\n",
       "    </tr>\n",
       "    <tr>\n",
       "      <th>avg_additional_charges_total</th>\n",
       "      <td>0.132</td>\n",
       "    </tr>\n",
       "    <tr>\n",
       "      <th>contract_period</th>\n",
       "      <td>0.117</td>\n",
       "    </tr>\n",
       "    <tr>\n",
       "      <th>group_visits</th>\n",
       "      <td>0.021</td>\n",
       "    </tr>\n",
       "    <tr>\n",
       "      <th>gender</th>\n",
       "      <td>0.017</td>\n",
       "    </tr>\n",
       "    <tr>\n",
       "      <th>partner</th>\n",
       "      <td>0.017</td>\n",
       "    </tr>\n",
       "    <tr>\n",
       "      <th>promo_friends</th>\n",
       "      <td>0.015</td>\n",
       "    </tr>\n",
       "    <tr>\n",
       "      <th>near_location</th>\n",
       "      <td>0.014</td>\n",
       "    </tr>\n",
       "    <tr>\n",
       "      <th>phone</th>\n",
       "      <td>0.010</td>\n",
       "    </tr>\n",
       "  </tbody>\n",
       "</table>\n",
       "</div>"
      ],
      "text/plain": [
       "                              coeff\n",
       "lifetime                      0.334\n",
       "avg_class_frequency_total     0.171\n",
       "age                           0.153\n",
       "avg_additional_charges_total  0.132\n",
       "contract_period               0.117\n",
       "group_visits                  0.021\n",
       "gender                        0.017\n",
       "partner                       0.017\n",
       "promo_friends                 0.015\n",
       "near_location                 0.014\n",
       "phone                         0.010"
      ]
     },
     "execution_count": 24,
     "metadata": {},
     "output_type": "execute_result"
    }
   ],
   "source": [
    "# создадим датафрейм с именами признаков и их важностью и выведем его по убыванию важности\n",
    "pd.DataFrame(\n",
    "    columns=[\"coeff\"],\n",
    "    data=abs(model_forest.feature_importances_.round(3)),\n",
    "    index=X_test.columns,\n",
    ").sort_values(by=\"coeff\", ascending=False)"
   ]
  },
  {
   "cell_type": "markdown",
   "id": "3ff9c150",
   "metadata": {},
   "source": [
    "* Наиболее важными признаками влияющими на отток оказались lifetime-время с момента первого обращения,возраст и средняя частота посещений в неделю.  \n",
    "* Наименее важные признаки телефон, расстояние от дома и акция приведи друга"
   ]
  },
  {
   "cell_type": "markdown",
   "id": "c7da091b",
   "metadata": {},
   "source": [
    "### Выводы моделей прогнозирования оттоков клиентов"
   ]
  },
  {
   "cell_type": "markdown",
   "id": "638e8b72",
   "metadata": {},
   "source": [
    "* Для прогнозирования оттоков клиента использовали модели логистической регрессии и случайного леса. Логистическая регрессия показала себя лучше по метрике Precision-доля прозноза относительно оттока клиентов 0.83 против 0.81\n",
    "Остальные метрики у моделей совпали:  \n",
    "* Метрика Accuracy-доля правильно угаданных ответов равна 90%              \n",
    "* Метрика Recall показывает сколько реальных клиентов,находящихся в оттоке удалось обнаружить 0.80    \n",
    "* Наиболее важными признаками влияющими на отток в обеих моделях оказались lifetime-время с момента первого обращения и средняя частота посещений в неделю."
   ]
  },
  {
   "cell_type": "markdown",
   "id": "7eeee4d1",
   "metadata": {},
   "source": [
    "## Кластеризация клиентов"
   ]
  },
  {
   "cell_type": "markdown",
   "id": "8ff8be7a",
   "metadata": {},
   "source": [
    "#### Стандартизируйте данные"
   ]
  },
  {
   "cell_type": "code",
   "execution_count": 25,
   "id": "cb5fef1a",
   "metadata": {},
   "outputs": [],
   "source": [
    "sc = StandardScaler()\n",
    "x_sc = sc.fit_transform(X)"
   ]
  },
  {
   "cell_type": "markdown",
   "id": "1c74043f",
   "metadata": {},
   "source": [
    "#### Постройте матрицу расстояний функцией linkage() на стандартизованной матрице признаков и нарисуйте дендрограмму.На основании полученного графика предположите, какое количество кластеров можно выделить."
   ]
  },
  {
   "cell_type": "code",
   "execution_count": 26,
   "id": "fc41ed60",
   "metadata": {},
   "outputs": [
    {
     "data": {
      "image/png": "[encoded data removed]",
      "text/plain": [
       "<Figure size 1080x720 with 1 Axes>"
      ]
     },
     "metadata": {
      "needs_background": "light"
     },
     "output_type": "display_data"
    }
   ],
   "source": [
    "linked = linkage(x_sc, method=\"ward\")\n",
    "plt.figure(figsize=(15, 10))\n",
    "dendrogram(linked, orientation=\"top\")\n",
    "plt.title(\"Кластеризация пользователей\")\n",
    "plt.show()"
   ]
  },
  {
   "cell_type": "markdown",
   "id": "f8f10810",
   "metadata": {},
   "source": [
    "#### Обучите модель кластеризации на основании алгоритма K-Means и спрогнозируйте кластеры клиентов."
   ]
  },
  {
   "cell_type": "code",
   "execution_count": 27,
   "id": "2be559c4",
   "metadata": {},
   "outputs": [],
   "source": [
    "# по условию задачи примем число кластеров равным 5\n",
    "km = KMeans(n_clusters=5)\n",
    "labels = km.fit_predict(x_sc)\n",
    "df[\"cluster\"] = labels"
   ]
  },
  {
   "cell_type": "code",
   "execution_count": 28,
   "id": "d783775a",
   "metadata": {},
   "outputs": [
    {
     "data": {
      "text/plain": [
       "1    1199\n",
       "2    1002\n",
       "3     856\n",
       "4     557\n",
       "0     386\n",
       "Name: cluster, dtype: int64"
      ]
     },
     "execution_count": 28,
     "metadata": {},
     "output_type": "execute_result"
    }
   ],
   "source": [
    "df.cluster.value_counts()"
   ]
  },
  {
   "cell_type": "markdown",
   "id": "d8ec1aa3",
   "metadata": {},
   "source": [
    "#### Посмотрите на средние значения признаков для кластеров."
   ]
  },
  {
   "cell_type": "code",
   "execution_count": 30,
   "id": "df11a62b",
   "metadata": {},
   "outputs": [
    {
     "data": {
      "text/html": [
       "<style  type=\"text/css\" >\n",
       "#T_fc921_row0_col5,#T_fc921_row1_col3,#T_fc921_row1_col6,#T_fc921_row1_col8,#T_fc921_row1_col9,#T_fc921_row1_col10,#T_fc921_row1_col11,#T_fc921_row1_col12,#T_fc921_row1_col13,#T_fc921_row2_col1,#T_fc921_row3_col4,#T_fc921_row3_col14,#T_fc921_row4_col2,#T_fc921_row4_col7{\n",
       "            background-color:  coral;\n",
       "        }#T_fc921_row1_col2,#T_fc921_row1_col5,#T_fc921_row1_col14,#T_fc921_row2_col3,#T_fc921_row2_col4,#T_fc921_row2_col5,#T_fc921_row3_col1,#T_fc921_row3_col5,#T_fc921_row3_col6,#T_fc921_row3_col7,#T_fc921_row3_col8,#T_fc921_row3_col9,#T_fc921_row3_col10,#T_fc921_row3_col11,#T_fc921_row3_col12,#T_fc921_row3_col13,#T_fc921_row4_col5{\n",
       "            background-color:  yellowgreen;\n",
       "        }</style><table id=\"T_fc921_\" ><thead>    <tr>        <th class=\"blank level0\" ></th>        <th class=\"col_heading level0 col0\" >cluster</th>        <th class=\"col_heading level0 col1\" >gender</th>        <th class=\"col_heading level0 col2\" >near_location</th>        <th class=\"col_heading level0 col3\" >partner</th>        <th class=\"col_heading level0 col4\" >promo_friends</th>        <th class=\"col_heading level0 col5\" >phone</th>        <th class=\"col_heading level0 col6\" >contract_period</th>        <th class=\"col_heading level0 col7\" >group_visits</th>        <th class=\"col_heading level0 col8\" >age</th>        <th class=\"col_heading level0 col9\" >avg_additional_charges_total</th>        <th class=\"col_heading level0 col10\" >month_to_end_contract</th>        <th class=\"col_heading level0 col11\" >lifetime</th>        <th class=\"col_heading level0 col12\" >avg_class_frequency_total</th>        <th class=\"col_heading level0 col13\" >avg_class_frequency_current_month</th>        <th class=\"col_heading level0 col14\" >churn</th>    </tr></thead><tbody>\n",
       "                <tr>\n",
       "                        <th id=\"T_fc921_level0_row0\" class=\"row_heading level0 row0\" >0</th>\n",
       "                        <td id=\"T_fc921_row0_col0\" class=\"data row0 col0\" >0</td>\n",
       "                        <td id=\"T_fc921_row0_col1\" class=\"data row0 col1\" >0.52</td>\n",
       "                        <td id=\"T_fc921_row0_col2\" class=\"data row0 col2\" >0.86</td>\n",
       "                        <td id=\"T_fc921_row0_col3\" class=\"data row0 col3\" >0.47</td>\n",
       "                        <td id=\"T_fc921_row0_col4\" class=\"data row0 col4\" >0.31</td>\n",
       "                        <td id=\"T_fc921_row0_col5\" class=\"data row0 col5\" >0.00</td>\n",
       "                        <td id=\"T_fc921_row0_col6\" class=\"data row0 col6\" >4.78</td>\n",
       "                        <td id=\"T_fc921_row0_col7\" class=\"data row0 col7\" >0.43</td>\n",
       "                        <td id=\"T_fc921_row0_col8\" class=\"data row0 col8\" >29.30</td>\n",
       "                        <td id=\"T_fc921_row0_col9\" class=\"data row0 col9\" >144.21</td>\n",
       "                        <td id=\"T_fc921_row0_col10\" class=\"data row0 col10\" >4.47</td>\n",
       "                        <td id=\"T_fc921_row0_col11\" class=\"data row0 col11\" >3.94</td>\n",
       "                        <td id=\"T_fc921_row0_col12\" class=\"data row0 col12\" >1.85</td>\n",
       "                        <td id=\"T_fc921_row0_col13\" class=\"data row0 col13\" >1.72</td>\n",
       "                        <td id=\"T_fc921_row0_col14\" class=\"data row0 col14\" >0.27</td>\n",
       "            </tr>\n",
       "            <tr>\n",
       "                        <th id=\"T_fc921_level0_row1\" class=\"row_heading level0 row1\" >1</th>\n",
       "                        <td id=\"T_fc921_row1_col0\" class=\"data row1 col0\" >1</td>\n",
       "                        <td id=\"T_fc921_row1_col1\" class=\"data row1 col1\" >0.51</td>\n",
       "                        <td id=\"T_fc921_row1_col2\" class=\"data row1 col2\" >1.00</td>\n",
       "                        <td id=\"T_fc921_row1_col3\" class=\"data row1 col3\" >0.19</td>\n",
       "                        <td id=\"T_fc921_row1_col4\" class=\"data row1 col4\" >0.05</td>\n",
       "                        <td id=\"T_fc921_row1_col5\" class=\"data row1 col5\" >1.00</td>\n",
       "                        <td id=\"T_fc921_row1_col6\" class=\"data row1 col6\" >1.93</td>\n",
       "                        <td id=\"T_fc921_row1_col7\" class=\"data row1 col7\" >0.31</td>\n",
       "                        <td id=\"T_fc921_row1_col8\" class=\"data row1 col8\" >27.97</td>\n",
       "                        <td id=\"T_fc921_row1_col9\" class=\"data row1 col9\" >124.36</td>\n",
       "                        <td id=\"T_fc921_row1_col10\" class=\"data row1 col10\" >1.87</td>\n",
       "                        <td id=\"T_fc921_row1_col11\" class=\"data row1 col11\" >2.15</td>\n",
       "                        <td id=\"T_fc921_row1_col12\" class=\"data row1 col12\" >1.56</td>\n",
       "                        <td id=\"T_fc921_row1_col13\" class=\"data row1 col13\" >1.35</td>\n",
       "                        <td id=\"T_fc921_row1_col14\" class=\"data row1 col14\" >0.49</td>\n",
       "            </tr>\n",
       "            <tr>\n",
       "                        <th id=\"T_fc921_level0_row2\" class=\"row_heading level0 row2\" >2</th>\n",
       "                        <td id=\"T_fc921_row2_col0\" class=\"data row2 col0\" >2</td>\n",
       "                        <td id=\"T_fc921_row2_col1\" class=\"data row2 col1\" >0.50</td>\n",
       "                        <td id=\"T_fc921_row2_col2\" class=\"data row2 col2\" >1.00</td>\n",
       "                        <td id=\"T_fc921_row2_col3\" class=\"data row2 col3\" >0.89</td>\n",
       "                        <td id=\"T_fc921_row2_col4\" class=\"data row2 col4\" >1.00</td>\n",
       "                        <td id=\"T_fc921_row2_col5\" class=\"data row2 col5\" >1.00</td>\n",
       "                        <td id=\"T_fc921_row2_col6\" class=\"data row2 col6\" >6.84</td>\n",
       "                        <td id=\"T_fc921_row2_col7\" class=\"data row2 col7\" >0.52</td>\n",
       "                        <td id=\"T_fc921_row2_col8\" class=\"data row2 col8\" >29.53</td>\n",
       "                        <td id=\"T_fc921_row2_col9\" class=\"data row2 col9\" >152.41</td>\n",
       "                        <td id=\"T_fc921_row2_col10\" class=\"data row2 col10\" >6.26</td>\n",
       "                        <td id=\"T_fc921_row2_col11\" class=\"data row2 col11\" >4.27</td>\n",
       "                        <td id=\"T_fc921_row2_col12\" class=\"data row2 col12\" >1.95</td>\n",
       "                        <td id=\"T_fc921_row2_col13\" class=\"data row2 col13\" >1.90</td>\n",
       "                        <td id=\"T_fc921_row2_col14\" class=\"data row2 col14\" >0.13</td>\n",
       "            </tr>\n",
       "            <tr>\n",
       "                        <th id=\"T_fc921_level0_row3\" class=\"row_heading level0 row3\" >3</th>\n",
       "                        <td id=\"T_fc921_row3_col0\" class=\"data row3 col0\" >3</td>\n",
       "                        <td id=\"T_fc921_row3_col1\" class=\"data row3 col1\" >0.53</td>\n",
       "                        <td id=\"T_fc921_row3_col2\" class=\"data row3 col2\" >1.00</td>\n",
       "                        <td id=\"T_fc921_row3_col3\" class=\"data row3 col3\" >0.44</td>\n",
       "                        <td id=\"T_fc921_row3_col4\" class=\"data row3 col4\" >0.01</td>\n",
       "                        <td id=\"T_fc921_row3_col5\" class=\"data row3 col5\" >1.00</td>\n",
       "                        <td id=\"T_fc921_row3_col6\" class=\"data row3 col6\" >7.07</td>\n",
       "                        <td id=\"T_fc921_row3_col7\" class=\"data row3 col7\" >0.54</td>\n",
       "                        <td id=\"T_fc921_row3_col8\" class=\"data row3 col8\" >30.75</td>\n",
       "                        <td id=\"T_fc921_row3_col9\" class=\"data row3 col9\" >179.71</td>\n",
       "                        <td id=\"T_fc921_row3_col10\" class=\"data row3 col10\" >6.42</td>\n",
       "                        <td id=\"T_fc921_row3_col11\" class=\"data row3 col11\" >5.68</td>\n",
       "                        <td id=\"T_fc921_row3_col12\" class=\"data row3 col12\" >2.33</td>\n",
       "                        <td id=\"T_fc921_row3_col13\" class=\"data row3 col13\" >2.32</td>\n",
       "                        <td id=\"T_fc921_row3_col14\" class=\"data row3 col14\" >0.01</td>\n",
       "            </tr>\n",
       "            <tr>\n",
       "                        <th id=\"T_fc921_level0_row4\" class=\"row_heading level0 row4\" >4</th>\n",
       "                        <td id=\"T_fc921_row4_col0\" class=\"data row4 col0\" >4</td>\n",
       "                        <td id=\"T_fc921_row4_col1\" class=\"data row4 col1\" >0.50</td>\n",
       "                        <td id=\"T_fc921_row4_col2\" class=\"data row4 col2\" >0.00</td>\n",
       "                        <td id=\"T_fc921_row4_col3\" class=\"data row4 col3\" >0.49</td>\n",
       "                        <td id=\"T_fc921_row4_col4\" class=\"data row4 col4\" >0.08</td>\n",
       "                        <td id=\"T_fc921_row4_col5\" class=\"data row4 col5\" >1.00</td>\n",
       "                        <td id=\"T_fc921_row4_col6\" class=\"data row4 col6\" >2.98</td>\n",
       "                        <td id=\"T_fc921_row4_col7\" class=\"data row4 col7\" >0.23</td>\n",
       "                        <td id=\"T_fc921_row4_col8\" class=\"data row4 col8\" >28.69</td>\n",
       "                        <td id=\"T_fc921_row4_col9\" class=\"data row4 col9\" >137.28</td>\n",
       "                        <td id=\"T_fc921_row4_col10\" class=\"data row4 col10\" >2.80</td>\n",
       "                        <td id=\"T_fc921_row4_col11\" class=\"data row4 col11\" >2.98</td>\n",
       "                        <td id=\"T_fc921_row4_col12\" class=\"data row4 col12\" >1.76</td>\n",
       "                        <td id=\"T_fc921_row4_col13\" class=\"data row4 col13\" >1.60</td>\n",
       "                        <td id=\"T_fc921_row4_col14\" class=\"data row4 col14\" >0.40</td>\n",
       "            </tr>\n",
       "    </tbody></table>"
      ],
      "text/plain": [
       "<pandas.io.formats.style.Styler at 0x7f2deb0709d0>"
      ]
     },
     "execution_count": 30,
     "metadata": {},
     "output_type": "execute_result"
    }
   ],
   "source": [
    "cluster_features = df.groupby(\"cluster\").mean().reset_index()\n",
    "numeric_columns = cluster_features.drop(columns=[\"cluster\"]).columns\n",
    "cluster_features.style.format({i: \"{:.2f}\" for i in numeric_columns}).highlight_max(\n",
    "    color=\"yellowgreen\", subset=numeric_columns\n",
    ").highlight_min(color=\"coral\", subset=numeric_columns)"
   ]
  },
  {
   "cell_type": "markdown",
   "id": "a0bd7d8a",
   "metadata": {},
   "source": [
    "* В 0 кластере 944 человека.Обьединены по признакам :near_location=0.99,partner=0.95,promo_friend=0.99.Клиенты из этого кластера пришли по акции Приведи друга,либо сотрудники компании-парнера.Из них 99% живет рядом с клубом.Самая большая Средняя длительность абонемента 7 месяцев из всех кластеров и сумма,потраченная на доп услуги \n",
    "avg_additional_charges_total=153 тыс     \n",
    "* В 1 кластере 561 человек.Обьединены по признаку near_location=0, то есть все живут далеко от клуба      \n",
    "* В 2 кластере 1235 человек-это самый многочисленный кластер. Все клиенты живут рядом с фитнес-клубом и не посещают групповые занятия    \n",
    "* В 3 кластере 874 человека.Признак,объединяющий всех клиентов-посещение групповых занятий\n",
    "* В 4 кластере 386 человек.Клиенты из этой грцппы не указалы свой номер телефона"
   ]
  },
  {
   "cell_type": "markdown",
   "id": "b733c33d",
   "metadata": {},
   "source": [
    "#### Постройте распределения признаков для кластеров."
   ]
  },
  {
   "cell_type": "code",
   "execution_count": 32,
   "id": "6144756a",
   "metadata": {},
   "outputs": [
    {
     "data": {
      "image/png": "[encoded data removed]",
      "text/plain": [
       "<Figure size 1440x720 with 6 Axes>"
      ]
     },
     "metadata": {
      "needs_background": "light"
     },
     "output_type": "display_data"
    }
   ],
   "source": [
    "# построим графики для бинарных признаков\n",
    "n_rows = 1\n",
    "n_cols = 6\n",
    "\n",
    "fig, axes = plt.subplots(\n",
    "    nrows=n_rows,\n",
    "    ncols=n_cols,\n",
    "    sharex=True,\n",
    "    sharey=True,\n",
    "    constrained_layout=False,\n",
    "    figsize=(20, 10),\n",
    ")\n",
    "i = 0\n",
    "cols = [\"gender\", \"near_location\", \"partner\", \"promo_friends\", \"phone\", \"group_visits\"]\n",
    "for idx, x in enumerate(cols):\n",
    "    column = cols[idx]\n",
    "    sns.countplot(x=\"cluster\", hue=df[column], data=df, ax=axes[idx])\n",
    "    sns.set_palette(\"Set3\")"
   ]
  },
  {
   "cell_type": "markdown",
   "id": "9c6e4903",
   "metadata": {},
   "source": [
    "* Гендерное распределение для кластеров практически одинаковое    \n",
    "* Расстояние от дома до фитнес центра: ближе всего клиенты из 2,3,4 кластера.Далеко от дома зал у клиентов из 0 кластера   \n",
    "* Больше всего клиентов,пришедшие по партнерской программе из 0 кластера, а из тех кто ей не пльзовался-2,3 кластер     \n",
    "* По акции Приведи друга пришли  900 клиентов из 0 кластера, и 1150 человек  не участвующих в этой программе.    \n",
    "* Около 400 человек из 4 кластера не указали свой номер телефона.    \n",
    "* Групповые занятия не посещают 1200 человек из 2 кластера ,а  800 человек из 3 кластера наоборот ходят постоянно"
   ]
  },
  {
   "cell_type": "code",
   "execution_count": 33,
   "id": "7cc21e33",
   "metadata": {},
   "outputs": [
    {
     "data": {
      "image/png": "[encoded data removed]",
      "text/plain": [
       "<Figure size 720x360 with 1 Axes>"
      ]
     },
     "metadata": {
      "needs_background": "light"
     },
     "output_type": "display_data"
    },
    {
     "data": {
      "image/png": "[encoded data removed]",
      "text/plain": [
       "<Figure size 720x360 with 1 Axes>"
      ]
     },
     "metadata": {
      "needs_background": "light"
     },
     "output_type": "display_data"
    },
    {
     "data": {
      "image/png": "[encoded data removed]",
      "text/plain": [
       "<Figure size 720x360 with 1 Axes>"
      ]
     },
     "metadata": {
      "needs_background": "light"
     },
     "output_type": "display_data"
    },
    {
     "data": {
      "image/png": "[encoded data removed]",
      "text/plain": [
       "<Figure size 720x360 with 1 Axes>"
      ]
     },
     "metadata": {
      "needs_background": "light"
     },
     "output_type": "display_data"
    },
    {
     "data": {
      "image/png": "[encoded data removed]",
      "text/plain": [
       "<Figure size 720x360 with 1 Axes>"
      ]
     },
     "metadata": {
      "needs_background": "light"
     },
     "output_type": "display_data"
    },
    {
     "data": {
      "image/png": "[encoded data removed]",
      "text/plain": [
       "<Figure size 720x360 with 1 Axes>"
      ]
     },
     "metadata": {
      "needs_background": "light"
     },
     "output_type": "display_data"
    }
   ],
   "source": [
    "# построим графики для небинарных признаков\n",
    "for column in [\n",
    "    \"month_to_end_contract\",\n",
    "    \"age\",\n",
    "    \"avg_additional_charges_total\",\n",
    "    \"lifetime\",\n",
    "    \"avg_class_frequency_total\",\n",
    "    \"avg_class_frequency_current_month\",\n",
    "]:\n",
    "    plt.figure(figsize=(10, 5))\n",
    "    sns.boxplot(x=\"cluster\", y=df[column], data=df)\n",
    "    plt.show()"
   ]
  },
  {
   "cell_type": "markdown",
   "id": "1fcbf025",
   "metadata": {},
   "source": [
    "* Самый длительный срок до окончания абонементов у 0 кластера-11 месяцев. Самый короткий у 1 кластера-около 5 месяцев    \n",
    "* Для 0 и 3 кластера характерен среднй возраст около 30 лет   \n",
    "* Самая большая сумма на доп услуги была потрачена 0 кластером  \n",
    "* Самые высокие показатели лайфтами у 0 кластера   \n",
    "* У 0 и 3 кластера чуть выше частота посещений,чем у остальных   "
   ]
  },
  {
   "cell_type": "markdown",
   "id": "58d63bcb",
   "metadata": {},
   "source": [
    "#### Для каждого полученного кластера посчитайте долю оттока (методом groupby()). Отличаются ли они по доле оттока? Какие кластеры склонны к оттоку, а какие — надёжны?"
   ]
  },
  {
   "cell_type": "code",
   "execution_count": 34,
   "id": "d344217f",
   "metadata": {},
   "outputs": [
    {
     "data": {
      "text/html": [
       "<div>\n",
       "<style scoped>\n",
       "    .dataframe tbody tr th:only-of-type {\n",
       "        vertical-align: middle;\n",
       "    }\n",
       "\n",
       "    .dataframe tbody tr th {\n",
       "        vertical-align: top;\n",
       "    }\n",
       "\n",
       "    .dataframe thead th {\n",
       "        text-align: right;\n",
       "    }\n",
       "</style>\n",
       "<table border=\"1\" class=\"dataframe\">\n",
       "  <thead>\n",
       "    <tr style=\"text-align: right;\">\n",
       "      <th></th>\n",
       "      <th>churn</th>\n",
       "    </tr>\n",
       "    <tr>\n",
       "      <th>cluster</th>\n",
       "      <th></th>\n",
       "    </tr>\n",
       "  </thead>\n",
       "  <tbody>\n",
       "    <tr>\n",
       "      <th>3</th>\n",
       "      <td>0.012850</td>\n",
       "    </tr>\n",
       "    <tr>\n",
       "      <th>2</th>\n",
       "      <td>0.131737</td>\n",
       "    </tr>\n",
       "    <tr>\n",
       "      <th>0</th>\n",
       "      <td>0.266839</td>\n",
       "    </tr>\n",
       "    <tr>\n",
       "      <th>4</th>\n",
       "      <td>0.402154</td>\n",
       "    </tr>\n",
       "    <tr>\n",
       "      <th>1</th>\n",
       "      <td>0.492911</td>\n",
       "    </tr>\n",
       "  </tbody>\n",
       "</table>\n",
       "</div>"
      ],
      "text/plain": [
       "            churn\n",
       "cluster          \n",
       "3        0.012850\n",
       "2        0.131737\n",
       "0        0.266839\n",
       "4        0.402154\n",
       "1        0.492911"
      ]
     },
     "execution_count": 34,
     "metadata": {},
     "output_type": "execute_result"
    }
   ],
   "source": [
    "# посмотрим средние значения оттока в кластерах\n",
    "df.groupby(\"cluster\").agg({\"churn\": \"mean\"}).sort_values(by=\"churn\")"
   ]
  },
  {
   "cell_type": "markdown",
   "id": "e5530dca",
   "metadata": {},
   "source": [
    "* Самый большой отток у 1 кластера 40%, на втором месте 2 кластер с 35%. Самые хорошие показатели у 0 кластера 13% и 3 кластера 20%  "
   ]
  },
  {
   "cell_type": "markdown",
   "id": "f434bcba",
   "metadata": {},
   "source": [
    "### Выводы    \n",
    "\n",
    "**В результате изучения данных**   \n",
    "\n",
    "* В датафрейме 14 столбцов и 4000 строк.\n",
    "* Пропусков и дубликатов нет.\n",
    "* Название столбцов привели к нижнему регистру\n",
    "\n",
    "\n",
    "**В результате исследовательского анализа данных**    \n",
    "\n",
    "* На отток клиентов больше всего влияет лайфтайм,средняя частота посещений ,возраст и период контракт         \n",
    "* В отток чаще уходят клиенты у которых абонемент на короткий срок, занимаются около месяца и дальше живут от клуба. Клиенты с парнерской программы и пришедшие по акции остаются чаще          \n",
    "* Наиболее сильно коррелируют признаки Средняя частота посещений в неделю за все время с начала действия абонемента(Avg_class_frequency_total) со Средней частотой посещений в неделю за предыдущий месяц(Avg_class_frequency_current_month) и длительность текущего действующего абонемента(Contract_period) со сроком до окончания текущего действующего абонемента(Month_to_end_contract). Коэффициенты корреляции равны 0.95 и 0.97 соответственно.Эти признаки мультиколлинеарны   \n",
    "* Признаки с практически нулевой корреляцией-пол и номер телефона  \n",
    "\n",
    "**Выводы моделей прогнозирования оттоков клиентов**    \n",
    "\n",
    "* Для прогнозирования оттоков клиента использовали модели логистической регрессии и случайного леса. Логистическая регрессия показала себя лучше по метрике Precision-доля прозноза относительно оттока клиентов 0.83 против 0.81\n",
    "Остальные метрики у моделей совпали:  \n",
    "* Метрика Accuracy-доля правильно угаданных ответов равна 90%              \n",
    "* Метрика Recall показывает сколько реальных клиентов,находящихся в оттоке удалось обнаружить 0.80    \n",
    "* Наиболее важными признаками влияющими на отток в обеих моделях оказались lifetime-время с момента первого обращения и средняя частота посещений в неделю.    \n",
    " \n",
    "**В результате кластеризации**    \n",
    "\n",
    "* Гендерное распределение для кластеров практически одинаковое    \n",
    "* Расстояние от дома до фитнес центра: ближе всего клиенты из 2,3,4 кластера.Далеко от дома зал у клиентов из 0 кластера   \n",
    "* Больше всего клиентов,пришедшие по партнерской программе из 0 кластера, а из тех кто ей не пльзовался-2,3 кластер     \n",
    "* По акции Приведи друга пришли  900 клиентов из 0 кластера, и 1150 человек  не участвующих в этой программе.    \n",
    "* Около 400 человек из 4 кластера не указали свой номер телефона.    \n",
    "* Групповые занятия не посещают 1200 человек из 2 кластера ,а  800 человек из 3 кластера наоборот ходят постоянно\n",
    "* Самый большой отток у 1 кластера 40%, на втором месте 2 кластер с 35%. Самые хорошие показатели у 0 кластера 13% и 3 кластера 20%  \n",
    "\n",
    "\n",
    "\n"
   ]
  },
  {
   "cell_type": "markdown",
   "id": "00febaa7",
   "metadata": {},
   "source": [
    "## Основные выводы"
   ]
  },
  {
   "cell_type": "markdown",
   "id": "fa531fc2",
   "metadata": {},
   "source": [
    "* Самые хорошие показатели у 0 и 3 кластера, а значит это клиенты,которые живут рядом с клубом,пришли по партнерской программе или по акции Приведи друга.Они также любят посещать групповые занятия и имеют самый длительный абонемент. Чтобы увеличить лояльность этих кластеров необходимо уделить внимание качеству групповых тренировок, а также периодически предлагать всевозможные акции.   \n",
    "* Больше всего отток у 1 и 2 кластера. Для 1 кластера можно предложить пользоваться услугами других клубов,которые будут ближе к их дому, а также предложить доп скидки для приобретения более длительных абонементов.Во 2 классе также стоить внимательно отнестись к качеству групповых тренировок и их расписанию, это еще и самая многочисленная группа 1235 человек из 4000"
   ]
  }
 ],
 "metadata": {
  "ExecuteTimeLog": [
   {
    "duration": 2341,
    "start_time": "2022-09-22T15:57:08.960Z"
   },
   {
    "duration": 99,
    "start_time": "2022-09-22T15:57:11.307Z"
   },
   {
    "duration": 18,
    "start_time": "2022-09-22T15:57:11.409Z"
   },
   {
    "duration": 5,
    "start_time": "2022-09-22T15:57:11.429Z"
   },
   {
    "duration": 42,
    "start_time": "2022-09-22T15:57:11.438Z"
   },
   {
    "duration": 109,
    "start_time": "2022-09-22T15:57:11.483Z"
   },
   {
    "duration": 26,
    "start_time": "2022-09-22T15:57:11.595Z"
   },
   {
    "duration": 3375,
    "start_time": "2022-09-22T15:57:11.624Z"
   },
   {
    "duration": 28,
    "start_time": "2022-09-22T15:57:15.001Z"
   },
   {
    "duration": 1869,
    "start_time": "2022-09-22T15:57:15.032Z"
   },
   {
    "duration": 6,
    "start_time": "2022-09-22T15:57:16.904Z"
   },
   {
    "duration": 22,
    "start_time": "2022-09-22T15:57:16.913Z"
   },
   {
    "duration": 10,
    "start_time": "2022-09-22T15:57:16.937Z"
   },
   {
    "duration": 38,
    "start_time": "2022-09-22T15:57:16.954Z"
   },
   {
    "duration": 8,
    "start_time": "2022-09-22T15:57:16.994Z"
   },
   {
    "duration": 27,
    "start_time": "2022-09-22T15:57:17.004Z"
   },
   {
    "duration": 29,
    "start_time": "2022-09-22T15:57:17.033Z"
   },
   {
    "duration": 19363,
    "start_time": "2022-09-22T15:57:17.065Z"
   },
   {
    "duration": 408,
    "start_time": "2022-09-22T15:57:36.430Z"
   },
   {
    "duration": 17,
    "start_time": "2022-09-22T15:57:36.840Z"
   },
   {
    "duration": 34,
    "start_time": "2022-09-22T15:57:36.860Z"
   },
   {
    "duration": 11,
    "start_time": "2022-09-22T15:57:36.896Z"
   },
   {
    "duration": 127092,
    "start_time": "2022-09-22T15:57:36.910Z"
   },
   {
    "duration": 1675,
    "start_time": "2022-09-22T15:59:44.005Z"
   },
   {
    "duration": 9,
    "start_time": "2022-09-22T15:59:45.683Z"
   },
   {
    "duration": 28,
    "start_time": "2022-09-22T15:59:45.694Z"
   },
   {
    "duration": 1219,
    "start_time": "2022-09-22T15:59:45.724Z"
   },
   {
    "duration": 1532,
    "start_time": "2022-09-22T15:59:46.947Z"
   },
   {
    "duration": 12,
    "start_time": "2022-09-22T15:59:48.481Z"
   },
   {
    "duration": 1401,
    "start_time": "2022-09-22T18:07:12.359Z"
   },
   {
    "duration": 304,
    "start_time": "2022-09-22T18:07:13.762Z"
   },
   {
    "duration": 147,
    "start_time": "2022-09-22T18:07:14.068Z"
   },
   {
    "duration": 21,
    "start_time": "2022-09-22T18:07:14.218Z"
   },
   {
    "duration": 6,
    "start_time": "2022-09-22T18:07:14.241Z"
   },
   {
    "duration": 10,
    "start_time": "2022-09-22T18:07:14.249Z"
   },
   {
    "duration": 63,
    "start_time": "2022-09-22T18:07:14.261Z"
   },
   {
    "duration": 13,
    "start_time": "2022-09-22T18:07:14.326Z"
   },
   {
    "duration": 2589,
    "start_time": "2022-09-22T18:07:14.341Z"
   },
   {
    "duration": 23,
    "start_time": "2022-09-22T18:07:16.932Z"
   },
   {
    "duration": 1696,
    "start_time": "2022-09-22T18:07:16.957Z"
   },
   {
    "duration": 5,
    "start_time": "2022-09-22T18:07:18.655Z"
   },
   {
    "duration": 23,
    "start_time": "2022-09-22T18:07:18.662Z"
   },
   {
    "duration": 16,
    "start_time": "2022-09-22T18:07:18.688Z"
   },
   {
    "duration": 37,
    "start_time": "2022-09-22T18:07:18.706Z"
   },
   {
    "duration": 13,
    "start_time": "2022-09-22T18:07:18.745Z"
   },
   {
    "duration": 10,
    "start_time": "2022-09-22T18:07:18.760Z"
   },
   {
    "duration": 25,
    "start_time": "2022-09-22T18:07:18.772Z"
   },
   {
    "duration": 17356,
    "start_time": "2022-09-22T18:07:18.799Z"
   },
   {
    "duration": 362,
    "start_time": "2022-09-22T18:07:36.157Z"
   },
   {
    "duration": 6,
    "start_time": "2022-09-22T18:07:36.521Z"
   },
   {
    "duration": 18,
    "start_time": "2022-09-22T18:07:36.529Z"
   },
   {
    "duration": 8,
    "start_time": "2022-09-22T18:07:36.548Z"
   },
   {
    "duration": 120906,
    "start_time": "2022-09-22T18:07:36.558Z"
   },
   {
    "duration": 1138,
    "start_time": "2022-09-22T18:09:37.466Z"
   },
   {
    "duration": 6,
    "start_time": "2022-09-22T18:09:38.607Z"
   },
   {
    "duration": 20,
    "start_time": "2022-09-22T18:09:38.616Z"
   },
   {
    "duration": 1131,
    "start_time": "2022-09-22T18:09:38.639Z"
   },
   {
    "duration": 1411,
    "start_time": "2022-09-22T18:09:39.772Z"
   },
   {
    "duration": 26,
    "start_time": "2022-09-22T18:09:41.185Z"
   },
   {
    "duration": 129,
    "start_time": "2022-09-22T18:09:41.212Z"
   },
   {
    "duration": 856,
    "start_time": "2022-09-22T18:23:54.976Z"
   },
   {
    "duration": 973,
    "start_time": "2022-09-22T18:24:15.079Z"
   },
   {
    "duration": 171,
    "start_time": "2022-09-22T18:24:21.321Z"
   },
   {
    "duration": 844,
    "start_time": "2022-09-22T18:24:25.111Z"
   },
   {
    "duration": 920,
    "start_time": "2022-09-22T18:24:33.914Z"
   },
   {
    "duration": 110,
    "start_time": "2022-09-22T18:27:55.535Z"
   },
   {
    "duration": 788,
    "start_time": "2022-09-22T18:30:10.558Z"
   },
   {
    "duration": 246,
    "start_time": "2022-09-22T18:41:38.177Z"
   },
   {
    "duration": 295,
    "start_time": "2022-09-22T18:42:08.045Z"
   },
   {
    "duration": 1264,
    "start_time": "2022-09-22T18:44:59.372Z"
   },
   {
    "duration": 1563,
    "start_time": "2022-09-22T18:45:18.677Z"
   },
   {
    "duration": 349,
    "start_time": "2022-09-22T18:46:51.374Z"
   },
   {
    "duration": 1239,
    "start_time": "2022-09-22T18:49:18.890Z"
   },
   {
    "duration": 1206,
    "start_time": "2022-09-22T18:51:06.720Z"
   },
   {
    "duration": 437,
    "start_time": "2022-09-22T18:53:00.410Z"
   },
   {
    "duration": 186,
    "start_time": "2022-09-22T18:53:53.536Z"
   },
   {
    "duration": 209,
    "start_time": "2022-09-22T18:58:43.221Z"
   },
   {
    "duration": 270,
    "start_time": "2022-09-22T18:59:02.447Z"
   },
   {
    "duration": 22,
    "start_time": "2022-09-22T19:07:52.206Z"
   },
   {
    "duration": 244,
    "start_time": "2022-09-22T19:08:39.082Z"
   },
   {
    "duration": 242,
    "start_time": "2022-09-22T19:08:57.288Z"
   },
   {
    "duration": 273,
    "start_time": "2022-09-22T19:09:24.231Z"
   },
   {
    "duration": 248,
    "start_time": "2022-09-22T19:09:34.574Z"
   },
   {
    "duration": 201,
    "start_time": "2022-09-22T19:14:45.536Z"
   },
   {
    "duration": 245,
    "start_time": "2022-09-22T19:15:42.982Z"
   },
   {
    "duration": 200,
    "start_time": "2022-09-22T19:16:23.732Z"
   },
   {
    "duration": 266,
    "start_time": "2022-09-22T19:17:04.927Z"
   },
   {
    "duration": 269,
    "start_time": "2022-09-22T19:17:29.031Z"
   },
   {
    "duration": 246,
    "start_time": "2022-09-22T19:18:15.614Z"
   },
   {
    "duration": 232,
    "start_time": "2022-09-22T19:19:11.114Z"
   },
   {
    "duration": 242,
    "start_time": "2022-09-22T19:19:58.497Z"
   },
   {
    "duration": 1532,
    "start_time": "2022-09-22T19:21:42.784Z"
   },
   {
    "duration": 1431,
    "start_time": "2022-09-22T19:22:24.128Z"
   },
   {
    "duration": 1629,
    "start_time": "2022-09-22T19:23:05.087Z"
   },
   {
    "duration": 1400,
    "start_time": "2022-09-22T19:23:25.794Z"
   },
   {
    "duration": 1558,
    "start_time": "2022-09-22T19:23:43.827Z"
   },
   {
    "duration": 1551,
    "start_time": "2022-09-22T19:24:32.182Z"
   },
   {
    "duration": 1639,
    "start_time": "2022-09-22T19:25:08.001Z"
   },
   {
    "duration": 1754,
    "start_time": "2022-09-22T19:25:52.952Z"
   },
   {
    "duration": 3116,
    "start_time": "2022-09-22T19:28:45.870Z"
   },
   {
    "duration": 1743,
    "start_time": "2022-09-22T19:29:10.573Z"
   },
   {
    "duration": 1756,
    "start_time": "2022-09-22T19:31:54.529Z"
   },
   {
    "duration": 4581,
    "start_time": "2022-09-22T19:32:18.535Z"
   },
   {
    "duration": 509,
    "start_time": "2022-09-22T19:36:07.112Z"
   },
   {
    "duration": 3,
    "start_time": "2022-09-22T19:36:43.511Z"
   },
   {
    "duration": 6,
    "start_time": "2022-09-22T19:36:43.517Z"
   },
   {
    "duration": 50,
    "start_time": "2022-09-22T19:36:43.567Z"
   },
   {
    "duration": 12,
    "start_time": "2022-09-22T19:36:43.619Z"
   },
   {
    "duration": 5,
    "start_time": "2022-09-22T19:36:43.632Z"
   },
   {
    "duration": 10,
    "start_time": "2022-09-22T19:36:43.639Z"
   },
   {
    "duration": 68,
    "start_time": "2022-09-22T19:36:43.652Z"
   },
   {
    "duration": 12,
    "start_time": "2022-09-22T19:36:43.722Z"
   },
   {
    "duration": 3,
    "start_time": "2022-09-22T19:36:43.736Z"
   },
   {
    "duration": 436,
    "start_time": "2022-09-22T19:36:43.740Z"
   },
   {
    "duration": 0,
    "start_time": "2022-09-22T19:36:44.178Z"
   },
   {
    "duration": 0,
    "start_time": "2022-09-22T19:36:44.180Z"
   },
   {
    "duration": 0,
    "start_time": "2022-09-22T19:36:44.188Z"
   },
   {
    "duration": 0,
    "start_time": "2022-09-22T19:36:44.189Z"
   },
   {
    "duration": 0,
    "start_time": "2022-09-22T19:36:44.190Z"
   },
   {
    "duration": 0,
    "start_time": "2022-09-22T19:36:44.190Z"
   },
   {
    "duration": 0,
    "start_time": "2022-09-22T19:36:44.191Z"
   },
   {
    "duration": 0,
    "start_time": "2022-09-22T19:36:44.192Z"
   },
   {
    "duration": 0,
    "start_time": "2022-09-22T19:36:44.192Z"
   },
   {
    "duration": 0,
    "start_time": "2022-09-22T19:36:44.193Z"
   },
   {
    "duration": 0,
    "start_time": "2022-09-22T19:36:44.194Z"
   },
   {
    "duration": 0,
    "start_time": "2022-09-22T19:36:44.194Z"
   },
   {
    "duration": 0,
    "start_time": "2022-09-22T19:36:44.195Z"
   },
   {
    "duration": 0,
    "start_time": "2022-09-22T19:36:44.195Z"
   },
   {
    "duration": 0,
    "start_time": "2022-09-22T19:36:44.196Z"
   },
   {
    "duration": 0,
    "start_time": "2022-09-22T19:36:44.198Z"
   },
   {
    "duration": 0,
    "start_time": "2022-09-22T19:36:44.198Z"
   },
   {
    "duration": 0,
    "start_time": "2022-09-22T19:36:44.199Z"
   },
   {
    "duration": 0,
    "start_time": "2022-09-22T19:36:44.203Z"
   },
   {
    "duration": 0,
    "start_time": "2022-09-22T19:36:44.205Z"
   },
   {
    "duration": 0,
    "start_time": "2022-09-22T19:36:44.206Z"
   },
   {
    "duration": 0,
    "start_time": "2022-09-22T19:36:44.207Z"
   },
   {
    "duration": 1332,
    "start_time": "2022-09-22T19:37:26.639Z"
   },
   {
    "duration": 412,
    "start_time": "2022-09-22T19:38:25.702Z"
   },
   {
    "duration": 386,
    "start_time": "2022-09-22T19:42:24.541Z"
   },
   {
    "duration": 1273,
    "start_time": "2022-09-22T19:43:28.081Z"
   },
   {
    "duration": 1202,
    "start_time": "2022-09-22T19:43:51.061Z"
   },
   {
    "duration": 86,
    "start_time": "2022-09-22T19:46:36.558Z"
   },
   {
    "duration": 1204,
    "start_time": "2022-09-22T19:46:44.650Z"
   },
   {
    "duration": 1409,
    "start_time": "2022-09-22T19:47:37.765Z"
   },
   {
    "duration": 686,
    "start_time": "2022-09-22T19:48:35.891Z"
   },
   {
    "duration": 676,
    "start_time": "2022-09-22T19:48:59.556Z"
   },
   {
    "duration": 2384,
    "start_time": "2022-09-22T19:50:39.127Z"
   },
   {
    "duration": 1674,
    "start_time": "2022-09-22T19:50:51.469Z"
   },
   {
    "duration": 1608,
    "start_time": "2022-09-22T19:52:56.851Z"
   },
   {
    "duration": 2128,
    "start_time": "2022-09-22T19:53:25.016Z"
   },
   {
    "duration": 898,
    "start_time": "2022-09-22T19:53:35.015Z"
   },
   {
    "duration": 782,
    "start_time": "2022-09-22T19:55:15.670Z"
   },
   {
    "duration": 635,
    "start_time": "2022-09-22T19:56:10.485Z"
   },
   {
    "duration": 609,
    "start_time": "2022-09-22T19:57:30.362Z"
   },
   {
    "duration": 1103,
    "start_time": "2022-09-22T19:57:51.101Z"
   },
   {
    "duration": 103,
    "start_time": "2022-09-22T20:01:21.009Z"
   },
   {
    "duration": 1336,
    "start_time": "2022-09-22T20:01:26.735Z"
   },
   {
    "duration": 779,
    "start_time": "2022-09-22T20:01:54.278Z"
   },
   {
    "duration": 911,
    "start_time": "2022-09-22T20:02:37.711Z"
   },
   {
    "duration": 2221,
    "start_time": "2022-09-22T20:03:05.656Z"
   },
   {
    "duration": 1126,
    "start_time": "2022-09-22T20:03:20.173Z"
   },
   {
    "duration": 1055,
    "start_time": "2022-09-22T20:03:53.762Z"
   },
   {
    "duration": 1339,
    "start_time": "2022-09-23T04:19:42.001Z"
   },
   {
    "duration": 289,
    "start_time": "2022-09-23T04:19:43.342Z"
   },
   {
    "duration": 90,
    "start_time": "2022-09-23T04:19:43.832Z"
   },
   {
    "duration": 13,
    "start_time": "2022-09-23T04:19:44.987Z"
   },
   {
    "duration": 4,
    "start_time": "2022-09-23T04:19:45.737Z"
   },
   {
    "duration": 11,
    "start_time": "2022-09-23T04:19:47.098Z"
   },
   {
    "duration": 49,
    "start_time": "2022-09-23T04:19:50.073Z"
   },
   {
    "duration": 12,
    "start_time": "2022-09-23T04:19:54.159Z"
   },
   {
    "duration": 3,
    "start_time": "2022-09-23T04:19:57.944Z"
   },
   {
    "duration": 1038,
    "start_time": "2022-09-23T04:19:59.947Z"
   },
   {
    "duration": 706,
    "start_time": "2022-09-23T04:20:10.329Z"
   },
   {
    "duration": 609,
    "start_time": "2022-09-23T04:20:24.928Z"
   },
   {
    "duration": 552,
    "start_time": "2022-09-23T04:20:37.215Z"
   },
   {
    "duration": 607,
    "start_time": "2022-09-23T04:21:12.711Z"
   },
   {
    "duration": 52,
    "start_time": "2022-09-23T04:27:31.070Z"
   },
   {
    "duration": 51,
    "start_time": "2022-09-23T04:27:53.083Z"
   },
   {
    "duration": 525,
    "start_time": "2022-09-23T04:28:13.225Z"
   },
   {
    "duration": 319,
    "start_time": "2022-09-23T04:28:49.568Z"
   },
   {
    "duration": 1406,
    "start_time": "2022-09-23T04:29:12.831Z"
   },
   {
    "duration": 1409,
    "start_time": "2022-09-23T04:29:38.417Z"
   },
   {
    "duration": 5,
    "start_time": "2022-09-23T04:31:30.333Z"
   },
   {
    "duration": 1076,
    "start_time": "2022-09-23T04:31:37.002Z"
   },
   {
    "duration": 824,
    "start_time": "2022-09-23T04:32:56.351Z"
   },
   {
    "duration": 148,
    "start_time": "2022-09-23T04:33:17.626Z"
   },
   {
    "duration": 829,
    "start_time": "2022-09-23T04:33:43.224Z"
   },
   {
    "duration": 145,
    "start_time": "2022-09-23T04:36:29.857Z"
   },
   {
    "duration": 335,
    "start_time": "2022-09-23T04:36:54.220Z"
   },
   {
    "duration": 813,
    "start_time": "2022-09-23T04:37:12.562Z"
   },
   {
    "duration": 792,
    "start_time": "2022-09-23T04:37:25.419Z"
   },
   {
    "duration": 135,
    "start_time": "2022-09-23T04:37:55.207Z"
   },
   {
    "duration": 924,
    "start_time": "2022-09-23T04:38:14.934Z"
   },
   {
    "duration": 650,
    "start_time": "2022-09-23T04:39:46.771Z"
   },
   {
    "duration": 50,
    "start_time": "2022-09-23T04:43:12.316Z"
   },
   {
    "duration": 42,
    "start_time": "2022-09-23T04:43:37.942Z"
   },
   {
    "duration": 490,
    "start_time": "2022-09-23T04:44:23.334Z"
   },
   {
    "duration": 1582,
    "start_time": "2022-09-23T04:45:41.698Z"
   },
   {
    "duration": 1270,
    "start_time": "2022-09-23T04:46:35.787Z"
   },
   {
    "duration": 817,
    "start_time": "2022-09-23T04:46:56.640Z"
   },
   {
    "duration": 838,
    "start_time": "2022-09-23T04:47:23.713Z"
   },
   {
    "duration": 50,
    "start_time": "2022-09-23T04:47:33.913Z"
   },
   {
    "duration": 815,
    "start_time": "2022-09-23T04:47:43.348Z"
   },
   {
    "duration": 764,
    "start_time": "2022-09-23T04:47:59.081Z"
   },
   {
    "duration": 972,
    "start_time": "2022-09-23T04:48:08.396Z"
   },
   {
    "duration": 722,
    "start_time": "2022-09-23T04:49:53.567Z"
   },
   {
    "duration": 1824,
    "start_time": "2022-09-23T04:50:50.138Z"
   },
   {
    "duration": 718,
    "start_time": "2022-09-23T04:51:25.071Z"
   },
   {
    "duration": 564,
    "start_time": "2022-09-23T04:51:55.002Z"
   },
   {
    "duration": 1123,
    "start_time": "2022-09-23T04:53:00.962Z"
   },
   {
    "duration": 1301,
    "start_time": "2022-09-23T04:53:59.103Z"
   },
   {
    "duration": 1165,
    "start_time": "2022-09-23T04:54:15.439Z"
   },
   {
    "duration": 150,
    "start_time": "2022-09-23T04:56:28.038Z"
   },
   {
    "duration": 366,
    "start_time": "2022-09-23T04:57:00.156Z"
   },
   {
    "duration": 1090,
    "start_time": "2022-09-23T04:57:55.041Z"
   },
   {
    "duration": 1043,
    "start_time": "2022-09-23T04:58:53.814Z"
   },
   {
    "duration": 1035,
    "start_time": "2022-09-23T05:00:01.115Z"
   },
   {
    "duration": 24,
    "start_time": "2022-09-23T05:03:06.297Z"
   },
   {
    "duration": 1535,
    "start_time": "2022-09-23T05:03:07.255Z"
   },
   {
    "duration": 22,
    "start_time": "2022-09-23T05:17:37.163Z"
   },
   {
    "duration": 17,
    "start_time": "2022-09-23T05:18:20.381Z"
   },
   {
    "duration": 20,
    "start_time": "2022-09-23T05:18:33.629Z"
   },
   {
    "duration": 22,
    "start_time": "2022-09-23T05:18:56.290Z"
   },
   {
    "duration": 1279,
    "start_time": "2022-09-23T05:19:16.958Z"
   },
   {
    "duration": 286,
    "start_time": "2022-09-23T05:19:18.240Z"
   },
   {
    "duration": 48,
    "start_time": "2022-09-23T05:19:18.528Z"
   },
   {
    "duration": 13,
    "start_time": "2022-09-23T05:19:18.578Z"
   },
   {
    "duration": 32,
    "start_time": "2022-09-23T05:19:18.593Z"
   },
   {
    "duration": 20,
    "start_time": "2022-09-23T05:19:18.627Z"
   },
   {
    "duration": 66,
    "start_time": "2022-09-23T05:19:18.649Z"
   },
   {
    "duration": 13,
    "start_time": "2022-09-23T05:19:18.717Z"
   },
   {
    "duration": 12,
    "start_time": "2022-09-23T05:19:18.733Z"
   },
   {
    "duration": 653,
    "start_time": "2022-09-23T05:19:18.746Z"
   },
   {
    "duration": 858,
    "start_time": "2022-09-23T05:19:19.401Z"
   },
   {
    "duration": 23,
    "start_time": "2022-09-23T05:19:20.262Z"
   },
   {
    "duration": 1618,
    "start_time": "2022-09-23T05:19:20.287Z"
   },
   {
    "duration": 4,
    "start_time": "2022-09-23T05:19:21.908Z"
   },
   {
    "duration": 32,
    "start_time": "2022-09-23T05:19:21.914Z"
   },
   {
    "duration": 4,
    "start_time": "2022-09-23T05:19:21.948Z"
   },
   {
    "duration": 32,
    "start_time": "2022-09-23T05:19:21.953Z"
   },
   {
    "duration": 7,
    "start_time": "2022-09-23T05:19:21.987Z"
   },
   {
    "duration": 21,
    "start_time": "2022-09-23T05:19:21.996Z"
   },
   {
    "duration": 27,
    "start_time": "2022-09-23T05:19:22.018Z"
   },
   {
    "duration": 17373,
    "start_time": "2022-09-23T05:19:22.047Z"
   },
   {
    "duration": 365,
    "start_time": "2022-09-23T05:19:39.422Z"
   },
   {
    "duration": 8,
    "start_time": "2022-09-23T05:19:39.789Z"
   },
   {
    "duration": 32,
    "start_time": "2022-09-23T05:19:39.800Z"
   },
   {
    "duration": 20,
    "start_time": "2022-09-23T05:19:39.834Z"
   },
   {
    "duration": 119108,
    "start_time": "2022-09-23T05:19:39.856Z"
   },
   {
    "duration": 1192,
    "start_time": "2022-09-23T05:21:38.966Z"
   },
   {
    "duration": 96,
    "start_time": "2022-09-23T05:21:40.160Z"
   },
   {
    "duration": 11,
    "start_time": "2022-09-23T05:21:40.258Z"
   },
   {
    "duration": 125,
    "start_time": "2022-09-23T05:21:40.271Z"
   },
   {
    "duration": 0,
    "start_time": "2022-09-23T05:21:40.398Z"
   },
   {
    "duration": 0,
    "start_time": "2022-09-23T05:21:40.399Z"
   },
   {
    "duration": 0,
    "start_time": "2022-09-23T05:21:40.400Z"
   },
   {
    "duration": 0,
    "start_time": "2022-09-23T05:21:40.401Z"
   },
   {
    "duration": 17,
    "start_time": "2022-09-23T05:24:25.145Z"
   },
   {
    "duration": 33,
    "start_time": "2022-09-23T05:24:41.720Z"
   },
   {
    "duration": 89,
    "start_time": "2022-09-23T05:24:50.081Z"
   },
   {
    "duration": 24,
    "start_time": "2022-09-23T05:25:28.415Z"
   },
   {
    "duration": 46,
    "start_time": "2022-09-23T05:25:41.117Z"
   },
   {
    "duration": 19,
    "start_time": "2022-09-23T05:25:56.341Z"
   },
   {
    "duration": 52,
    "start_time": "2022-09-23T05:26:00.598Z"
   },
   {
    "duration": 1089,
    "start_time": "2022-09-23T05:27:17.180Z"
   },
   {
    "duration": 993,
    "start_time": "2022-09-23T05:28:40.425Z"
   },
   {
    "duration": 773,
    "start_time": "2022-09-23T05:29:12.687Z"
   },
   {
    "duration": 752,
    "start_time": "2022-09-23T05:29:59.263Z"
   },
   {
    "duration": 3,
    "start_time": "2022-09-23T05:30:42.310Z"
   },
   {
    "duration": 1427,
    "start_time": "2022-09-23T05:31:01.252Z"
   },
   {
    "duration": 84,
    "start_time": "2022-09-23T05:32:00.965Z"
   },
   {
    "duration": 15,
    "start_time": "2022-09-23T05:32:22.751Z"
   },
   {
    "duration": 1191,
    "start_time": "2022-09-23T06:21:07.767Z"
   },
   {
    "duration": 699,
    "start_time": "2022-09-23T06:21:08.960Z"
   },
   {
    "duration": 51,
    "start_time": "2022-09-23T06:21:09.661Z"
   },
   {
    "duration": 16,
    "start_time": "2022-09-23T06:21:09.714Z"
   },
   {
    "duration": 14,
    "start_time": "2022-09-23T06:21:09.732Z"
   },
   {
    "duration": 13,
    "start_time": "2022-09-23T06:21:09.748Z"
   },
   {
    "duration": 64,
    "start_time": "2022-09-23T06:21:09.763Z"
   },
   {
    "duration": 14,
    "start_time": "2022-09-23T06:21:09.829Z"
   },
   {
    "duration": 9,
    "start_time": "2022-09-23T06:21:09.846Z"
   },
   {
    "duration": 705,
    "start_time": "2022-09-23T06:21:09.859Z"
   },
   {
    "duration": 974,
    "start_time": "2022-09-23T06:21:10.567Z"
   },
   {
    "duration": 41,
    "start_time": "2022-09-23T06:21:11.543Z"
   },
   {
    "duration": 1698,
    "start_time": "2022-09-23T06:21:11.586Z"
   },
   {
    "duration": 5,
    "start_time": "2022-09-23T06:21:13.286Z"
   },
   {
    "duration": 11,
    "start_time": "2022-09-23T06:21:13.293Z"
   },
   {
    "duration": 8,
    "start_time": "2022-09-23T06:21:13.306Z"
   },
   {
    "duration": 42,
    "start_time": "2022-09-23T06:21:13.316Z"
   },
   {
    "duration": 7,
    "start_time": "2022-09-23T06:21:13.360Z"
   },
   {
    "duration": 16,
    "start_time": "2022-09-23T06:21:13.369Z"
   },
   {
    "duration": 15,
    "start_time": "2022-09-23T06:21:13.386Z"
   },
   {
    "duration": 17553,
    "start_time": "2022-09-23T06:21:13.403Z"
   },
   {
    "duration": 373,
    "start_time": "2022-09-23T06:21:30.958Z"
   },
   {
    "duration": 8,
    "start_time": "2022-09-23T06:21:31.333Z"
   },
   {
    "duration": 29,
    "start_time": "2022-09-23T06:21:31.343Z"
   },
   {
    "duration": 11,
    "start_time": "2022-09-23T06:21:31.374Z"
   },
   {
    "duration": 119942,
    "start_time": "2022-09-23T06:21:31.387Z"
   },
   {
    "duration": 1435,
    "start_time": "2022-09-23T06:23:31.330Z"
   },
   {
    "duration": 6,
    "start_time": "2022-09-23T06:23:32.769Z"
   },
   {
    "duration": 8,
    "start_time": "2022-09-23T06:23:32.777Z"
   },
   {
    "duration": 104,
    "start_time": "2022-09-23T06:23:32.787Z"
   },
   {
    "duration": 3,
    "start_time": "2022-09-23T06:23:32.893Z"
   },
   {
    "duration": 786,
    "start_time": "2022-09-23T06:23:32.897Z"
   },
   {
    "duration": 999,
    "start_time": "2022-09-23T06:23:33.685Z"
   },
   {
    "duration": 12,
    "start_time": "2022-09-23T06:23:34.685Z"
   },
   {
    "duration": 313,
    "start_time": "2022-09-23T06:23:45.954Z"
   },
   {
    "duration": 674,
    "start_time": "2022-09-23T06:24:12.382Z"
   },
   {
    "duration": 2745,
    "start_time": "2022-09-23T06:24:23.719Z"
   },
   {
    "duration": 957,
    "start_time": "2022-09-23T06:24:41.613Z"
   },
   {
    "duration": 4240,
    "start_time": "2022-09-23T06:24:46.523Z"
   },
   {
    "duration": 4513,
    "start_time": "2022-09-23T06:25:03.164Z"
   }
  ],
  "kernelspec": {
   "display_name": "Python 3 (ipykernel)",
   "language": "python",
   "name": "python3"
  },
  "language_info": {
   "codemirror_mode": {
    "name": "ipython",
    "version": 3
   },
   "file_extension": ".py",
   "mimetype": "text/x-python",
   "name": "python",
   "nbconvert_exporter": "python",
   "pygments_lexer": "ipython3",
   "version": "3.10.4"
  },
  "toc": {
   "base_numbering": 1,
   "nav_menu": {},
   "number_sections": true,
   "sideBar": true,
   "skip_h1_title": true,
   "title_cell": "Table of Contents",
   "title_sidebar": "Contents",
   "toc_cell": false,
   "toc_position": {},
   "toc_section_display": true,
   "toc_window_display": false
  }
 },
 "nbformat": 4,
 "nbformat_minor": 5
}
